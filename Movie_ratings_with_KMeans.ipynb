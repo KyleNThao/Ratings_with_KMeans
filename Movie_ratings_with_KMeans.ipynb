{
  "nbformat": 4,
  "nbformat_minor": 0,
  "metadata": {
    "colab": {
      "name": "Project2.ipynb",
      "provenance": [],
      "collapsed_sections": []
    },
    "kernelspec": {
      "name": "python3",
      "display_name": "Python 3"
    }
  },
  "cells": [
    {
      "cell_type": "code",
      "metadata": {
        "id": "A7ZmnpiSmx4J"
      },
      "source": [
        "from sklearn import metrics \n",
        "from scipy.spatial.distance import cdist \n",
        "import pandas as pd\n",
        "import csv\n",
        "import matplotlib.pyplot as plt\n",
        "import numpy as np\n",
        "import plotly.graph_objects as go\n",
        "\n",
        "from sklearn.cluster import KMeans\n",
        "%matplotlib inline"
      ],
      "execution_count": null,
      "outputs": []
    },
    {
      "cell_type": "code",
      "metadata": {
        "id": "_qFtmlKT1zk0"
      },
      "source": [
        "#Read in the csv files.\n",
        "movies = pd.read_csv('movie.csv')\n",
        "ratings = pd.read_csv('rating.csv')"
      ],
      "execution_count": null,
      "outputs": []
    },
    {
      "cell_type": "markdown",
      "metadata": {
        "id": "n8J5qX7vJYw0"
      },
      "source": [
        "Displaying the movies dataframe.\n"
      ]
    },
    {
      "cell_type": "code",
      "metadata": {
        "id": "Uqywppi_vA1Z",
        "colab": {
          "base_uri": "https://localhost:8080/",
          "height": 419
        },
        "outputId": "a8e0b43a-4fc3-46e5-f64d-eb8481a54c88"
      },
      "source": [
        "#display the movies dataframe.\n",
        "movies"
      ],
      "execution_count": null,
      "outputs": [
        {
          "output_type": "execute_result",
          "data": {
            "text/html": [
              "<div>\n",
              "<style scoped>\n",
              "    .dataframe tbody tr th:only-of-type {\n",
              "        vertical-align: middle;\n",
              "    }\n",
              "\n",
              "    .dataframe tbody tr th {\n",
              "        vertical-align: top;\n",
              "    }\n",
              "\n",
              "    .dataframe thead th {\n",
              "        text-align: right;\n",
              "    }\n",
              "</style>\n",
              "<table border=\"1\" class=\"dataframe\">\n",
              "  <thead>\n",
              "    <tr style=\"text-align: right;\">\n",
              "      <th></th>\n",
              "      <th>movieId</th>\n",
              "      <th>title</th>\n",
              "      <th>genres</th>\n",
              "    </tr>\n",
              "  </thead>\n",
              "  <tbody>\n",
              "    <tr>\n",
              "      <th>0</th>\n",
              "      <td>1</td>\n",
              "      <td>Toy Story (1995)</td>\n",
              "      <td>Adventure|Animation|Children|Comedy|Fantasy</td>\n",
              "    </tr>\n",
              "    <tr>\n",
              "      <th>1</th>\n",
              "      <td>2</td>\n",
              "      <td>Jumanji (1995)</td>\n",
              "      <td>Adventure|Children|Fantasy</td>\n",
              "    </tr>\n",
              "    <tr>\n",
              "      <th>2</th>\n",
              "      <td>3</td>\n",
              "      <td>Grumpier Old Men (1995)</td>\n",
              "      <td>Comedy|Romance</td>\n",
              "    </tr>\n",
              "    <tr>\n",
              "      <th>3</th>\n",
              "      <td>4</td>\n",
              "      <td>Waiting to Exhale (1995)</td>\n",
              "      <td>Comedy|Drama|Romance</td>\n",
              "    </tr>\n",
              "    <tr>\n",
              "      <th>4</th>\n",
              "      <td>5</td>\n",
              "      <td>Father of the Bride Part II (1995)</td>\n",
              "      <td>Comedy</td>\n",
              "    </tr>\n",
              "    <tr>\n",
              "      <th>...</th>\n",
              "      <td>...</td>\n",
              "      <td>...</td>\n",
              "      <td>...</td>\n",
              "    </tr>\n",
              "    <tr>\n",
              "      <th>27273</th>\n",
              "      <td>131254</td>\n",
              "      <td>Kein Bund für's Leben (2007)</td>\n",
              "      <td>Comedy</td>\n",
              "    </tr>\n",
              "    <tr>\n",
              "      <th>27274</th>\n",
              "      <td>131256</td>\n",
              "      <td>Feuer, Eis &amp; Dosenbier (2002)</td>\n",
              "      <td>Comedy</td>\n",
              "    </tr>\n",
              "    <tr>\n",
              "      <th>27275</th>\n",
              "      <td>131258</td>\n",
              "      <td>The Pirates (2014)</td>\n",
              "      <td>Adventure</td>\n",
              "    </tr>\n",
              "    <tr>\n",
              "      <th>27276</th>\n",
              "      <td>131260</td>\n",
              "      <td>Rentun Ruusu (2001)</td>\n",
              "      <td>(no genres listed)</td>\n",
              "    </tr>\n",
              "    <tr>\n",
              "      <th>27277</th>\n",
              "      <td>131262</td>\n",
              "      <td>Innocence (2014)</td>\n",
              "      <td>Adventure|Fantasy|Horror</td>\n",
              "    </tr>\n",
              "  </tbody>\n",
              "</table>\n",
              "<p>27278 rows × 3 columns</p>\n",
              "</div>"
            ],
            "text/plain": [
              "       movieId  ...                                       genres\n",
              "0            1  ...  Adventure|Animation|Children|Comedy|Fantasy\n",
              "1            2  ...                   Adventure|Children|Fantasy\n",
              "2            3  ...                               Comedy|Romance\n",
              "3            4  ...                         Comedy|Drama|Romance\n",
              "4            5  ...                                       Comedy\n",
              "...        ...  ...                                          ...\n",
              "27273   131254  ...                                       Comedy\n",
              "27274   131256  ...                                       Comedy\n",
              "27275   131258  ...                                    Adventure\n",
              "27276   131260  ...                           (no genres listed)\n",
              "27277   131262  ...                     Adventure|Fantasy|Horror\n",
              "\n",
              "[27278 rows x 3 columns]"
            ]
          },
          "metadata": {
            "tags": []
          },
          "execution_count": 3
        }
      ]
    },
    {
      "cell_type": "markdown",
      "metadata": {
        "id": "8Rme661HXG2l"
      },
      "source": [
        "Displaying the ratings dataframe."
      ]
    },
    {
      "cell_type": "code",
      "metadata": {
        "id": "4duBVEaqvE7H",
        "colab": {
          "base_uri": "https://localhost:8080/",
          "height": 419
        },
        "outputId": "61e4e235-66c0-4bbf-a8fa-8e48f75404cf"
      },
      "source": [
        "#Display the ratings dataframe.\n",
        "ratings"
      ],
      "execution_count": null,
      "outputs": [
        {
          "output_type": "execute_result",
          "data": {
            "text/html": [
              "<div>\n",
              "<style scoped>\n",
              "    .dataframe tbody tr th:only-of-type {\n",
              "        vertical-align: middle;\n",
              "    }\n",
              "\n",
              "    .dataframe tbody tr th {\n",
              "        vertical-align: top;\n",
              "    }\n",
              "\n",
              "    .dataframe thead th {\n",
              "        text-align: right;\n",
              "    }\n",
              "</style>\n",
              "<table border=\"1\" class=\"dataframe\">\n",
              "  <thead>\n",
              "    <tr style=\"text-align: right;\">\n",
              "      <th></th>\n",
              "      <th>userId</th>\n",
              "      <th>movieId</th>\n",
              "      <th>rating</th>\n",
              "      <th>timestamp</th>\n",
              "    </tr>\n",
              "  </thead>\n",
              "  <tbody>\n",
              "    <tr>\n",
              "      <th>0</th>\n",
              "      <td>1</td>\n",
              "      <td>2</td>\n",
              "      <td>3.5</td>\n",
              "      <td>2005-04-02 23:53:47</td>\n",
              "    </tr>\n",
              "    <tr>\n",
              "      <th>1</th>\n",
              "      <td>1</td>\n",
              "      <td>29</td>\n",
              "      <td>3.5</td>\n",
              "      <td>2005-04-02 23:31:16</td>\n",
              "    </tr>\n",
              "    <tr>\n",
              "      <th>2</th>\n",
              "      <td>1</td>\n",
              "      <td>32</td>\n",
              "      <td>3.5</td>\n",
              "      <td>2005-04-02 23:33:39</td>\n",
              "    </tr>\n",
              "    <tr>\n",
              "      <th>3</th>\n",
              "      <td>1</td>\n",
              "      <td>47</td>\n",
              "      <td>3.5</td>\n",
              "      <td>2005-04-02 23:32:07</td>\n",
              "    </tr>\n",
              "    <tr>\n",
              "      <th>4</th>\n",
              "      <td>1</td>\n",
              "      <td>50</td>\n",
              "      <td>3.5</td>\n",
              "      <td>2005-04-02 23:29:40</td>\n",
              "    </tr>\n",
              "    <tr>\n",
              "      <th>...</th>\n",
              "      <td>...</td>\n",
              "      <td>...</td>\n",
              "      <td>...</td>\n",
              "      <td>...</td>\n",
              "    </tr>\n",
              "    <tr>\n",
              "      <th>20000258</th>\n",
              "      <td>138493</td>\n",
              "      <td>68954</td>\n",
              "      <td>4.5</td>\n",
              "      <td>2009-11-13 15:42:00</td>\n",
              "    </tr>\n",
              "    <tr>\n",
              "      <th>20000259</th>\n",
              "      <td>138493</td>\n",
              "      <td>69526</td>\n",
              "      <td>4.5</td>\n",
              "      <td>2009-12-03 18:31:48</td>\n",
              "    </tr>\n",
              "    <tr>\n",
              "      <th>20000260</th>\n",
              "      <td>138493</td>\n",
              "      <td>69644</td>\n",
              "      <td>3.0</td>\n",
              "      <td>2009-12-07 18:10:57</td>\n",
              "    </tr>\n",
              "    <tr>\n",
              "      <th>20000261</th>\n",
              "      <td>138493</td>\n",
              "      <td>70286</td>\n",
              "      <td>5.0</td>\n",
              "      <td>2009-11-13 15:42:24</td>\n",
              "    </tr>\n",
              "    <tr>\n",
              "      <th>20000262</th>\n",
              "      <td>138493</td>\n",
              "      <td>71619</td>\n",
              "      <td>2.5</td>\n",
              "      <td>2009-10-17 20:25:36</td>\n",
              "    </tr>\n",
              "  </tbody>\n",
              "</table>\n",
              "<p>20000263 rows × 4 columns</p>\n",
              "</div>"
            ],
            "text/plain": [
              "          userId  movieId  rating            timestamp\n",
              "0              1        2     3.5  2005-04-02 23:53:47\n",
              "1              1       29     3.5  2005-04-02 23:31:16\n",
              "2              1       32     3.5  2005-04-02 23:33:39\n",
              "3              1       47     3.5  2005-04-02 23:32:07\n",
              "4              1       50     3.5  2005-04-02 23:29:40\n",
              "...          ...      ...     ...                  ...\n",
              "20000258  138493    68954     4.5  2009-11-13 15:42:00\n",
              "20000259  138493    69526     4.5  2009-12-03 18:31:48\n",
              "20000260  138493    69644     3.0  2009-12-07 18:10:57\n",
              "20000261  138493    70286     5.0  2009-11-13 15:42:24\n",
              "20000262  138493    71619     2.5  2009-10-17 20:25:36\n",
              "\n",
              "[20000263 rows x 4 columns]"
            ]
          },
          "metadata": {
            "tags": []
          },
          "execution_count": 4
        }
      ]
    },
    {
      "cell_type": "markdown",
      "metadata": {
        "id": "OhtMd9mLXMmY"
      },
      "source": [
        "modifying the movies dataframe to exclude all entries with no genres listed."
      ]
    },
    {
      "cell_type": "code",
      "metadata": {
        "id": "FU9earbM4pV_",
        "colab": {
          "base_uri": "https://localhost:8080/",
          "height": 487
        },
        "outputId": "2e1ca231-5f42-4f5f-9bb1-19b7896ae8c4"
      },
      "source": [
        "##Remove any movies with a genre in order to keep consistentcies with the data.\n",
        "movies.drop(movies[movies['genres'].str.contains(\"(no genres listed)\")].index, inplace = True) \n",
        "movies"
      ],
      "execution_count": null,
      "outputs": [
        {
          "output_type": "stream",
          "text": [
            "/usr/local/lib/python3.6/dist-packages/pandas/core/strings.py:2001: UserWarning:\n",
            "\n",
            "This pattern has match groups. To actually get the groups, use str.extract.\n",
            "\n"
          ],
          "name": "stderr"
        },
        {
          "output_type": "execute_result",
          "data": {
            "text/html": [
              "<div>\n",
              "<style scoped>\n",
              "    .dataframe tbody tr th:only-of-type {\n",
              "        vertical-align: middle;\n",
              "    }\n",
              "\n",
              "    .dataframe tbody tr th {\n",
              "        vertical-align: top;\n",
              "    }\n",
              "\n",
              "    .dataframe thead th {\n",
              "        text-align: right;\n",
              "    }\n",
              "</style>\n",
              "<table border=\"1\" class=\"dataframe\">\n",
              "  <thead>\n",
              "    <tr style=\"text-align: right;\">\n",
              "      <th></th>\n",
              "      <th>movieId</th>\n",
              "      <th>title</th>\n",
              "      <th>genres</th>\n",
              "    </tr>\n",
              "  </thead>\n",
              "  <tbody>\n",
              "    <tr>\n",
              "      <th>0</th>\n",
              "      <td>1</td>\n",
              "      <td>Toy Story (1995)</td>\n",
              "      <td>Adventure|Animation|Children|Comedy|Fantasy</td>\n",
              "    </tr>\n",
              "    <tr>\n",
              "      <th>1</th>\n",
              "      <td>2</td>\n",
              "      <td>Jumanji (1995)</td>\n",
              "      <td>Adventure|Children|Fantasy</td>\n",
              "    </tr>\n",
              "    <tr>\n",
              "      <th>2</th>\n",
              "      <td>3</td>\n",
              "      <td>Grumpier Old Men (1995)</td>\n",
              "      <td>Comedy|Romance</td>\n",
              "    </tr>\n",
              "    <tr>\n",
              "      <th>3</th>\n",
              "      <td>4</td>\n",
              "      <td>Waiting to Exhale (1995)</td>\n",
              "      <td>Comedy|Drama|Romance</td>\n",
              "    </tr>\n",
              "    <tr>\n",
              "      <th>4</th>\n",
              "      <td>5</td>\n",
              "      <td>Father of the Bride Part II (1995)</td>\n",
              "      <td>Comedy</td>\n",
              "    </tr>\n",
              "    <tr>\n",
              "      <th>...</th>\n",
              "      <td>...</td>\n",
              "      <td>...</td>\n",
              "      <td>...</td>\n",
              "    </tr>\n",
              "    <tr>\n",
              "      <th>27272</th>\n",
              "      <td>131252</td>\n",
              "      <td>Forklift Driver Klaus: The First Day on the Jo...</td>\n",
              "      <td>Comedy|Horror</td>\n",
              "    </tr>\n",
              "    <tr>\n",
              "      <th>27273</th>\n",
              "      <td>131254</td>\n",
              "      <td>Kein Bund für's Leben (2007)</td>\n",
              "      <td>Comedy</td>\n",
              "    </tr>\n",
              "    <tr>\n",
              "      <th>27274</th>\n",
              "      <td>131256</td>\n",
              "      <td>Feuer, Eis &amp; Dosenbier (2002)</td>\n",
              "      <td>Comedy</td>\n",
              "    </tr>\n",
              "    <tr>\n",
              "      <th>27275</th>\n",
              "      <td>131258</td>\n",
              "      <td>The Pirates (2014)</td>\n",
              "      <td>Adventure</td>\n",
              "    </tr>\n",
              "    <tr>\n",
              "      <th>27277</th>\n",
              "      <td>131262</td>\n",
              "      <td>Innocence (2014)</td>\n",
              "      <td>Adventure|Fantasy|Horror</td>\n",
              "    </tr>\n",
              "  </tbody>\n",
              "</table>\n",
              "<p>27032 rows × 3 columns</p>\n",
              "</div>"
            ],
            "text/plain": [
              "       movieId  ...                                       genres\n",
              "0            1  ...  Adventure|Animation|Children|Comedy|Fantasy\n",
              "1            2  ...                   Adventure|Children|Fantasy\n",
              "2            3  ...                               Comedy|Romance\n",
              "3            4  ...                         Comedy|Drama|Romance\n",
              "4            5  ...                                       Comedy\n",
              "...        ...  ...                                          ...\n",
              "27272   131252  ...                                Comedy|Horror\n",
              "27273   131254  ...                                       Comedy\n",
              "27274   131256  ...                                       Comedy\n",
              "27275   131258  ...                                    Adventure\n",
              "27277   131262  ...                     Adventure|Fantasy|Horror\n",
              "\n",
              "[27032 rows x 3 columns]"
            ]
          },
          "metadata": {
            "tags": []
          },
          "execution_count": 5
        }
      ]
    },
    {
      "cell_type": "markdown",
      "metadata": {
        "id": "OcyAnexfuciC"
      },
      "source": [
        "# Handling the Adventure genre data"
      ]
    },
    {
      "cell_type": "markdown",
      "metadata": {
        "id": "cpfmFo39XXJg"
      },
      "source": [
        "Sorting through the movies dataframe for the all adventure movies to place into one dataframe called adventureMovies."
      ]
    },
    {
      "cell_type": "code",
      "metadata": {
        "id": "oiaMrn2W7195",
        "colab": {
          "base_uri": "https://localhost:8080/",
          "height": 419
        },
        "outputId": "066067c2-098e-4ce5-f228-a286b60f59a8"
      },
      "source": [
        "#Isolate Adventure movies into a separate dataframe. \n",
        "adventureMovies = movies[(movies.genres.str.contains('|'.join(['Adventure'])))]\n",
        "adventureMovies"
      ],
      "execution_count": null,
      "outputs": [
        {
          "output_type": "execute_result",
          "data": {
            "text/html": [
              "<div>\n",
              "<style scoped>\n",
              "    .dataframe tbody tr th:only-of-type {\n",
              "        vertical-align: middle;\n",
              "    }\n",
              "\n",
              "    .dataframe tbody tr th {\n",
              "        vertical-align: top;\n",
              "    }\n",
              "\n",
              "    .dataframe thead th {\n",
              "        text-align: right;\n",
              "    }\n",
              "</style>\n",
              "<table border=\"1\" class=\"dataframe\">\n",
              "  <thead>\n",
              "    <tr style=\"text-align: right;\">\n",
              "      <th></th>\n",
              "      <th>movieId</th>\n",
              "      <th>title</th>\n",
              "      <th>genres</th>\n",
              "    </tr>\n",
              "  </thead>\n",
              "  <tbody>\n",
              "    <tr>\n",
              "      <th>0</th>\n",
              "      <td>1</td>\n",
              "      <td>Toy Story (1995)</td>\n",
              "      <td>Adventure|Animation|Children|Comedy|Fantasy</td>\n",
              "    </tr>\n",
              "    <tr>\n",
              "      <th>1</th>\n",
              "      <td>2</td>\n",
              "      <td>Jumanji (1995)</td>\n",
              "      <td>Adventure|Children|Fantasy</td>\n",
              "    </tr>\n",
              "    <tr>\n",
              "      <th>7</th>\n",
              "      <td>8</td>\n",
              "      <td>Tom and Huck (1995)</td>\n",
              "      <td>Adventure|Children</td>\n",
              "    </tr>\n",
              "    <tr>\n",
              "      <th>9</th>\n",
              "      <td>10</td>\n",
              "      <td>GoldenEye (1995)</td>\n",
              "      <td>Action|Adventure|Thriller</td>\n",
              "    </tr>\n",
              "    <tr>\n",
              "      <th>12</th>\n",
              "      <td>13</td>\n",
              "      <td>Balto (1995)</td>\n",
              "      <td>Adventure|Animation|Children</td>\n",
              "    </tr>\n",
              "    <tr>\n",
              "      <th>...</th>\n",
              "      <td>...</td>\n",
              "      <td>...</td>\n",
              "      <td>...</td>\n",
              "    </tr>\n",
              "    <tr>\n",
              "      <th>27217</th>\n",
              "      <td>131084</td>\n",
              "      <td>Hui Buh: The Castle Ghost (2006)</td>\n",
              "      <td>Adventure|Comedy|Fantasy</td>\n",
              "    </tr>\n",
              "    <tr>\n",
              "      <th>27221</th>\n",
              "      <td>131092</td>\n",
              "      <td>Mickey, Donald, Goofy: The Three Musketeers (2...</td>\n",
              "      <td>Adventure|Animation|Children|Comedy</td>\n",
              "    </tr>\n",
              "    <tr>\n",
              "      <th>27270</th>\n",
              "      <td>131248</td>\n",
              "      <td>Brother Bear 2 (2006)</td>\n",
              "      <td>Adventure|Animation|Children|Comedy|Fantasy</td>\n",
              "    </tr>\n",
              "    <tr>\n",
              "      <th>27275</th>\n",
              "      <td>131258</td>\n",
              "      <td>The Pirates (2014)</td>\n",
              "      <td>Adventure</td>\n",
              "    </tr>\n",
              "    <tr>\n",
              "      <th>27277</th>\n",
              "      <td>131262</td>\n",
              "      <td>Innocence (2014)</td>\n",
              "      <td>Adventure|Fantasy|Horror</td>\n",
              "    </tr>\n",
              "  </tbody>\n",
              "</table>\n",
              "<p>2329 rows × 3 columns</p>\n",
              "</div>"
            ],
            "text/plain": [
              "       movieId  ...                                       genres\n",
              "0            1  ...  Adventure|Animation|Children|Comedy|Fantasy\n",
              "1            2  ...                   Adventure|Children|Fantasy\n",
              "7            8  ...                           Adventure|Children\n",
              "9           10  ...                    Action|Adventure|Thriller\n",
              "12          13  ...                 Adventure|Animation|Children\n",
              "...        ...  ...                                          ...\n",
              "27217   131084  ...                     Adventure|Comedy|Fantasy\n",
              "27221   131092  ...          Adventure|Animation|Children|Comedy\n",
              "27270   131248  ...  Adventure|Animation|Children|Comedy|Fantasy\n",
              "27275   131258  ...                                    Adventure\n",
              "27277   131262  ...                     Adventure|Fantasy|Horror\n",
              "\n",
              "[2329 rows x 3 columns]"
            ]
          },
          "metadata": {
            "tags": []
          },
          "execution_count": 6
        }
      ]
    },
    {
      "cell_type": "markdown",
      "metadata": {
        "id": "CVK7TDX6XlY8"
      },
      "source": [
        "*adventureRatings* dataframe will now contain all ratings from all users under the adventure genre tag."
      ]
    },
    {
      "cell_type": "code",
      "metadata": {
        "id": "EXGrPigpLgQH",
        "colab": {
          "base_uri": "https://localhost:8080/",
          "height": 589
        },
        "outputId": "ac553612-93b7-454c-dc3d-a997a3fb2df7"
      },
      "source": [
        "##inner-merging the adventure movie dataframe with the ratings dataframe to eliminate any ratings that \n",
        "#are not adventure movies as well as any movies without any ratings.\n",
        "\n",
        "adventureRatings = pd.merge(adventureMovies, ratings, on=['movieId'], how='inner')\n",
        "adventureRatings"
      ],
      "execution_count": null,
      "outputs": [
        {
          "output_type": "execute_result",
          "data": {
            "text/html": [
              "<div>\n",
              "<style scoped>\n",
              "    .dataframe tbody tr th:only-of-type {\n",
              "        vertical-align: middle;\n",
              "    }\n",
              "\n",
              "    .dataframe tbody tr th {\n",
              "        vertical-align: top;\n",
              "    }\n",
              "\n",
              "    .dataframe thead th {\n",
              "        text-align: right;\n",
              "    }\n",
              "</style>\n",
              "<table border=\"1\" class=\"dataframe\">\n",
              "  <thead>\n",
              "    <tr style=\"text-align: right;\">\n",
              "      <th></th>\n",
              "      <th>movieId</th>\n",
              "      <th>title</th>\n",
              "      <th>genres</th>\n",
              "      <th>userId</th>\n",
              "      <th>rating</th>\n",
              "      <th>timestamp</th>\n",
              "    </tr>\n",
              "  </thead>\n",
              "  <tbody>\n",
              "    <tr>\n",
              "      <th>0</th>\n",
              "      <td>1</td>\n",
              "      <td>Toy Story (1995)</td>\n",
              "      <td>Adventure|Animation|Children|Comedy|Fantasy</td>\n",
              "      <td>3</td>\n",
              "      <td>4.0</td>\n",
              "      <td>1999-12-11 13:36:47</td>\n",
              "    </tr>\n",
              "    <tr>\n",
              "      <th>1</th>\n",
              "      <td>1</td>\n",
              "      <td>Toy Story (1995)</td>\n",
              "      <td>Adventure|Animation|Children|Comedy|Fantasy</td>\n",
              "      <td>6</td>\n",
              "      <td>5.0</td>\n",
              "      <td>1997-03-13 17:50:52</td>\n",
              "    </tr>\n",
              "    <tr>\n",
              "      <th>2</th>\n",
              "      <td>1</td>\n",
              "      <td>Toy Story (1995)</td>\n",
              "      <td>Adventure|Animation|Children|Comedy|Fantasy</td>\n",
              "      <td>8</td>\n",
              "      <td>4.0</td>\n",
              "      <td>1996-06-05 13:37:51</td>\n",
              "    </tr>\n",
              "    <tr>\n",
              "      <th>3</th>\n",
              "      <td>1</td>\n",
              "      <td>Toy Story (1995)</td>\n",
              "      <td>Adventure|Animation|Children|Comedy|Fantasy</td>\n",
              "      <td>10</td>\n",
              "      <td>4.0</td>\n",
              "      <td>1999-11-25 02:44:47</td>\n",
              "    </tr>\n",
              "    <tr>\n",
              "      <th>4</th>\n",
              "      <td>1</td>\n",
              "      <td>Toy Story (1995)</td>\n",
              "      <td>Adventure|Animation|Children|Comedy|Fantasy</td>\n",
              "      <td>11</td>\n",
              "      <td>4.5</td>\n",
              "      <td>2009-01-02 01:13:41</td>\n",
              "    </tr>\n",
              "    <tr>\n",
              "      <th>...</th>\n",
              "      <td>...</td>\n",
              "      <td>...</td>\n",
              "      <td>...</td>\n",
              "      <td>...</td>\n",
              "      <td>...</td>\n",
              "      <td>...</td>\n",
              "    </tr>\n",
              "    <tr>\n",
              "      <th>4380346</th>\n",
              "      <td>131084</td>\n",
              "      <td>Hui Buh: The Castle Ghost (2006)</td>\n",
              "      <td>Adventure|Comedy|Fantasy</td>\n",
              "      <td>79570</td>\n",
              "      <td>2.5</td>\n",
              "      <td>2015-03-29 18:48:28</td>\n",
              "    </tr>\n",
              "    <tr>\n",
              "      <th>4380347</th>\n",
              "      <td>131092</td>\n",
              "      <td>Mickey, Donald, Goofy: The Three Musketeers (2...</td>\n",
              "      <td>Adventure|Animation|Children|Comedy</td>\n",
              "      <td>79570</td>\n",
              "      <td>3.0</td>\n",
              "      <td>2015-03-29 18:57:42</td>\n",
              "    </tr>\n",
              "    <tr>\n",
              "      <th>4380348</th>\n",
              "      <td>131248</td>\n",
              "      <td>Brother Bear 2 (2006)</td>\n",
              "      <td>Adventure|Animation|Children|Comedy|Fantasy</td>\n",
              "      <td>79570</td>\n",
              "      <td>4.0</td>\n",
              "      <td>2015-03-30 19:04:48</td>\n",
              "    </tr>\n",
              "    <tr>\n",
              "      <th>4380349</th>\n",
              "      <td>131258</td>\n",
              "      <td>The Pirates (2014)</td>\n",
              "      <td>Adventure</td>\n",
              "      <td>28906</td>\n",
              "      <td>2.5</td>\n",
              "      <td>2015-03-30 19:56:32</td>\n",
              "    </tr>\n",
              "    <tr>\n",
              "      <th>4380350</th>\n",
              "      <td>131262</td>\n",
              "      <td>Innocence (2014)</td>\n",
              "      <td>Adventure|Fantasy|Horror</td>\n",
              "      <td>133047</td>\n",
              "      <td>4.0</td>\n",
              "      <td>2015-03-30 20:39:26</td>\n",
              "    </tr>\n",
              "  </tbody>\n",
              "</table>\n",
              "<p>4380351 rows × 6 columns</p>\n",
              "</div>"
            ],
            "text/plain": [
              "         movieId  ...            timestamp\n",
              "0              1  ...  1999-12-11 13:36:47\n",
              "1              1  ...  1997-03-13 17:50:52\n",
              "2              1  ...  1996-06-05 13:37:51\n",
              "3              1  ...  1999-11-25 02:44:47\n",
              "4              1  ...  2009-01-02 01:13:41\n",
              "...          ...  ...                  ...\n",
              "4380346   131084  ...  2015-03-29 18:48:28\n",
              "4380347   131092  ...  2015-03-29 18:57:42\n",
              "4380348   131248  ...  2015-03-30 19:04:48\n",
              "4380349   131258  ...  2015-03-30 19:56:32\n",
              "4380350   131262  ...  2015-03-30 20:39:26\n",
              "\n",
              "[4380351 rows x 6 columns]"
            ]
          },
          "metadata": {
            "tags": []
          },
          "execution_count": 7
        }
      ]
    },
    {
      "cell_type": "code",
      "metadata": {
        "id": "sl1mWpZdJlqa",
        "colab": {
          "base_uri": "https://localhost:8080/",
          "height": 419
        },
        "outputId": "e92db813-d51c-4254-a140-5e19b66144a6"
      },
      "source": [
        "#Find the total ratings for each individual Adventure movie.\n",
        "numOfRatingsForEachAdventureMovie = adventureRatings['movieId'].value_counts()\n",
        "\n",
        "#Convert series into pandas dataframe.\n",
        "numOfRatingsForEachAdventureMovie = numOfRatingsForEachAdventureMovie.to_frame()\n",
        "\n",
        "#Cleanup the dataframe by renaming and moving columns.\n",
        "numOfRatingsForEachAdventureMovie = numOfRatingsForEachAdventureMovie.reset_index()\n",
        "numOfRatingsForEachAdventureMovie = numOfRatingsForEachAdventureMovie.rename(columns={\"movieId\": \"number of ratings\", \"index\": \"movieId\"})\n",
        "numOfRatingsForEachAdventureMovie"
      ],
      "execution_count": null,
      "outputs": [
        {
          "output_type": "execute_result",
          "data": {
            "text/html": [
              "<div>\n",
              "<style scoped>\n",
              "    .dataframe tbody tr th:only-of-type {\n",
              "        vertical-align: middle;\n",
              "    }\n",
              "\n",
              "    .dataframe tbody tr th {\n",
              "        vertical-align: top;\n",
              "    }\n",
              "\n",
              "    .dataframe thead th {\n",
              "        text-align: right;\n",
              "    }\n",
              "</style>\n",
              "<table border=\"1\" class=\"dataframe\">\n",
              "  <thead>\n",
              "    <tr style=\"text-align: right;\">\n",
              "      <th></th>\n",
              "      <th>movieId</th>\n",
              "      <th>number of ratings</th>\n",
              "    </tr>\n",
              "  </thead>\n",
              "  <tbody>\n",
              "    <tr>\n",
              "      <th>0</th>\n",
              "      <td>480</td>\n",
              "      <td>59715</td>\n",
              "    </tr>\n",
              "    <tr>\n",
              "      <th>1</th>\n",
              "      <td>260</td>\n",
              "      <td>54502</td>\n",
              "    </tr>\n",
              "    <tr>\n",
              "      <th>2</th>\n",
              "      <td>1</td>\n",
              "      <td>49695</td>\n",
              "    </tr>\n",
              "    <tr>\n",
              "      <th>3</th>\n",
              "      <td>150</td>\n",
              "      <td>47777</td>\n",
              "    </tr>\n",
              "    <tr>\n",
              "      <th>4</th>\n",
              "      <td>780</td>\n",
              "      <td>47048</td>\n",
              "    </tr>\n",
              "    <tr>\n",
              "      <th>...</th>\n",
              "      <td>...</td>\n",
              "      <td>...</td>\n",
              "    </tr>\n",
              "    <tr>\n",
              "      <th>2282</th>\n",
              "      <td>96504</td>\n",
              "      <td>1</td>\n",
              "    </tr>\n",
              "    <tr>\n",
              "      <th>2283</th>\n",
              "      <td>116983</td>\n",
              "      <td>1</td>\n",
              "    </tr>\n",
              "    <tr>\n",
              "      <th>2284</th>\n",
              "      <td>116979</td>\n",
              "      <td>1</td>\n",
              "    </tr>\n",
              "    <tr>\n",
              "      <th>2285</th>\n",
              "      <td>125173</td>\n",
              "      <td>1</td>\n",
              "    </tr>\n",
              "    <tr>\n",
              "      <th>2286</th>\n",
              "      <td>116720</td>\n",
              "      <td>1</td>\n",
              "    </tr>\n",
              "  </tbody>\n",
              "</table>\n",
              "<p>2287 rows × 2 columns</p>\n",
              "</div>"
            ],
            "text/plain": [
              "      movieId  number of ratings\n",
              "0         480              59715\n",
              "1         260              54502\n",
              "2           1              49695\n",
              "3         150              47777\n",
              "4         780              47048\n",
              "...       ...                ...\n",
              "2282    96504                  1\n",
              "2283   116983                  1\n",
              "2284   116979                  1\n",
              "2285   125173                  1\n",
              "2286   116720                  1\n",
              "\n",
              "[2287 rows x 2 columns]"
            ]
          },
          "metadata": {
            "tags": []
          },
          "execution_count": 8
        }
      ]
    },
    {
      "cell_type": "code",
      "metadata": {
        "id": "CrTGNMBUynsM",
        "colab": {
          "base_uri": "https://localhost:8080/"
        },
        "outputId": "32342e52-7dc6-46d6-ea2b-9d66793792fc"
      },
      "source": [
        "#Finding the average number of ratings for each Adventure movie.\n",
        "averageNumberOfRatingsForEachAdventureMovie = numOfRatingsForEachAdventureMovie['number of ratings'].mean(axis = 0) \n",
        "averageNumberOfRatingsForEachAdventureMovie\n"
      ],
      "execution_count": null,
      "outputs": [
        {
          "output_type": "execute_result",
          "data": {
            "text/plain": [
              "1915.3261915172716"
            ]
          },
          "metadata": {
            "tags": []
          },
          "execution_count": 9
        }
      ]
    },
    {
      "cell_type": "markdown",
      "metadata": {
        "id": "HM2yV4d0062b"
      },
      "source": [
        "# Handling the Comedy genre data\n"
      ]
    },
    {
      "cell_type": "markdown",
      "metadata": {
        "id": "t43yXeZLXg4s"
      },
      "source": [
        "Sorting through the movies dataframe for the all comedy movies to place into one dataframe called comedyMovies."
      ]
    },
    {
      "cell_type": "code",
      "metadata": {
        "id": "aNcgAnEvLeoz",
        "colab": {
          "base_uri": "https://localhost:8080/",
          "height": 419
        },
        "outputId": "330425f8-6f5c-4715-dbb2-f1a6c5464e95"
      },
      "source": [
        "#Isolate Comedy movies into a separate dataframe. \n",
        "comedyMovies = movies[(movies.genres.str.contains('|'.join(['Comedy'])))]\n",
        "comedyMovies"
      ],
      "execution_count": null,
      "outputs": [
        {
          "output_type": "execute_result",
          "data": {
            "text/html": [
              "<div>\n",
              "<style scoped>\n",
              "    .dataframe tbody tr th:only-of-type {\n",
              "        vertical-align: middle;\n",
              "    }\n",
              "\n",
              "    .dataframe tbody tr th {\n",
              "        vertical-align: top;\n",
              "    }\n",
              "\n",
              "    .dataframe thead th {\n",
              "        text-align: right;\n",
              "    }\n",
              "</style>\n",
              "<table border=\"1\" class=\"dataframe\">\n",
              "  <thead>\n",
              "    <tr style=\"text-align: right;\">\n",
              "      <th></th>\n",
              "      <th>movieId</th>\n",
              "      <th>title</th>\n",
              "      <th>genres</th>\n",
              "    </tr>\n",
              "  </thead>\n",
              "  <tbody>\n",
              "    <tr>\n",
              "      <th>0</th>\n",
              "      <td>1</td>\n",
              "      <td>Toy Story (1995)</td>\n",
              "      <td>Adventure|Animation|Children|Comedy|Fantasy</td>\n",
              "    </tr>\n",
              "    <tr>\n",
              "      <th>2</th>\n",
              "      <td>3</td>\n",
              "      <td>Grumpier Old Men (1995)</td>\n",
              "      <td>Comedy|Romance</td>\n",
              "    </tr>\n",
              "    <tr>\n",
              "      <th>3</th>\n",
              "      <td>4</td>\n",
              "      <td>Waiting to Exhale (1995)</td>\n",
              "      <td>Comedy|Drama|Romance</td>\n",
              "    </tr>\n",
              "    <tr>\n",
              "      <th>4</th>\n",
              "      <td>5</td>\n",
              "      <td>Father of the Bride Part II (1995)</td>\n",
              "      <td>Comedy</td>\n",
              "    </tr>\n",
              "    <tr>\n",
              "      <th>6</th>\n",
              "      <td>7</td>\n",
              "      <td>Sabrina (1995)</td>\n",
              "      <td>Comedy|Romance</td>\n",
              "    </tr>\n",
              "    <tr>\n",
              "      <th>...</th>\n",
              "      <td>...</td>\n",
              "      <td>...</td>\n",
              "      <td>...</td>\n",
              "    </tr>\n",
              "    <tr>\n",
              "      <th>27270</th>\n",
              "      <td>131248</td>\n",
              "      <td>Brother Bear 2 (2006)</td>\n",
              "      <td>Adventure|Animation|Children|Comedy|Fantasy</td>\n",
              "    </tr>\n",
              "    <tr>\n",
              "      <th>27271</th>\n",
              "      <td>131250</td>\n",
              "      <td>No More School (2000)</td>\n",
              "      <td>Comedy</td>\n",
              "    </tr>\n",
              "    <tr>\n",
              "      <th>27272</th>\n",
              "      <td>131252</td>\n",
              "      <td>Forklift Driver Klaus: The First Day on the Jo...</td>\n",
              "      <td>Comedy|Horror</td>\n",
              "    </tr>\n",
              "    <tr>\n",
              "      <th>27273</th>\n",
              "      <td>131254</td>\n",
              "      <td>Kein Bund für's Leben (2007)</td>\n",
              "      <td>Comedy</td>\n",
              "    </tr>\n",
              "    <tr>\n",
              "      <th>27274</th>\n",
              "      <td>131256</td>\n",
              "      <td>Feuer, Eis &amp; Dosenbier (2002)</td>\n",
              "      <td>Comedy</td>\n",
              "    </tr>\n",
              "  </tbody>\n",
              "</table>\n",
              "<p>8374 rows × 3 columns</p>\n",
              "</div>"
            ],
            "text/plain": [
              "       movieId  ...                                       genres\n",
              "0            1  ...  Adventure|Animation|Children|Comedy|Fantasy\n",
              "2            3  ...                               Comedy|Romance\n",
              "3            4  ...                         Comedy|Drama|Romance\n",
              "4            5  ...                                       Comedy\n",
              "6            7  ...                               Comedy|Romance\n",
              "...        ...  ...                                          ...\n",
              "27270   131248  ...  Adventure|Animation|Children|Comedy|Fantasy\n",
              "27271   131250  ...                                       Comedy\n",
              "27272   131252  ...                                Comedy|Horror\n",
              "27273   131254  ...                                       Comedy\n",
              "27274   131256  ...                                       Comedy\n",
              "\n",
              "[8374 rows x 3 columns]"
            ]
          },
          "metadata": {
            "tags": []
          },
          "execution_count": 10
        }
      ]
    },
    {
      "cell_type": "markdown",
      "metadata": {
        "id": "hrGkDpR5XuQY"
      },
      "source": [
        "*comedyRatings* dataframe will now contain all ratings from all users under the comedy genre tag."
      ]
    },
    {
      "cell_type": "code",
      "metadata": {
        "id": "EdKG8_2hM4Dj",
        "colab": {
          "base_uri": "https://localhost:8080/",
          "height": 589
        },
        "outputId": "02ce81dd-5ef3-4cb9-e268-38b6fa35dd60"
      },
      "source": [
        "##inner-merging the Comedy movie dataframe with the ratings dataframe to eliminate any ratings that \n",
        "#are not Comedy movies as well as any movies without any ratings.\n",
        "comedyRatings = pd.merge(comedyMovies, ratings, on=['movieId'], how='inner')\n",
        "comedyRatings"
      ],
      "execution_count": null,
      "outputs": [
        {
          "output_type": "execute_result",
          "data": {
            "text/html": [
              "<div>\n",
              "<style scoped>\n",
              "    .dataframe tbody tr th:only-of-type {\n",
              "        vertical-align: middle;\n",
              "    }\n",
              "\n",
              "    .dataframe tbody tr th {\n",
              "        vertical-align: top;\n",
              "    }\n",
              "\n",
              "    .dataframe thead th {\n",
              "        text-align: right;\n",
              "    }\n",
              "</style>\n",
              "<table border=\"1\" class=\"dataframe\">\n",
              "  <thead>\n",
              "    <tr style=\"text-align: right;\">\n",
              "      <th></th>\n",
              "      <th>movieId</th>\n",
              "      <th>title</th>\n",
              "      <th>genres</th>\n",
              "      <th>userId</th>\n",
              "      <th>rating</th>\n",
              "      <th>timestamp</th>\n",
              "    </tr>\n",
              "  </thead>\n",
              "  <tbody>\n",
              "    <tr>\n",
              "      <th>0</th>\n",
              "      <td>1</td>\n",
              "      <td>Toy Story (1995)</td>\n",
              "      <td>Adventure|Animation|Children|Comedy|Fantasy</td>\n",
              "      <td>3</td>\n",
              "      <td>4.0</td>\n",
              "      <td>1999-12-11 13:36:47</td>\n",
              "    </tr>\n",
              "    <tr>\n",
              "      <th>1</th>\n",
              "      <td>1</td>\n",
              "      <td>Toy Story (1995)</td>\n",
              "      <td>Adventure|Animation|Children|Comedy|Fantasy</td>\n",
              "      <td>6</td>\n",
              "      <td>5.0</td>\n",
              "      <td>1997-03-13 17:50:52</td>\n",
              "    </tr>\n",
              "    <tr>\n",
              "      <th>2</th>\n",
              "      <td>1</td>\n",
              "      <td>Toy Story (1995)</td>\n",
              "      <td>Adventure|Animation|Children|Comedy|Fantasy</td>\n",
              "      <td>8</td>\n",
              "      <td>4.0</td>\n",
              "      <td>1996-06-05 13:37:51</td>\n",
              "    </tr>\n",
              "    <tr>\n",
              "      <th>3</th>\n",
              "      <td>1</td>\n",
              "      <td>Toy Story (1995)</td>\n",
              "      <td>Adventure|Animation|Children|Comedy|Fantasy</td>\n",
              "      <td>10</td>\n",
              "      <td>4.0</td>\n",
              "      <td>1999-11-25 02:44:47</td>\n",
              "    </tr>\n",
              "    <tr>\n",
              "      <th>4</th>\n",
              "      <td>1</td>\n",
              "      <td>Toy Story (1995)</td>\n",
              "      <td>Adventure|Animation|Children|Comedy|Fantasy</td>\n",
              "      <td>11</td>\n",
              "      <td>4.5</td>\n",
              "      <td>2009-01-02 01:13:41</td>\n",
              "    </tr>\n",
              "    <tr>\n",
              "      <th>...</th>\n",
              "      <td>...</td>\n",
              "      <td>...</td>\n",
              "      <td>...</td>\n",
              "      <td>...</td>\n",
              "      <td>...</td>\n",
              "      <td>...</td>\n",
              "    </tr>\n",
              "    <tr>\n",
              "      <th>7502229</th>\n",
              "      <td>131248</td>\n",
              "      <td>Brother Bear 2 (2006)</td>\n",
              "      <td>Adventure|Animation|Children|Comedy|Fantasy</td>\n",
              "      <td>79570</td>\n",
              "      <td>4.0</td>\n",
              "      <td>2015-03-30 19:04:48</td>\n",
              "    </tr>\n",
              "    <tr>\n",
              "      <th>7502230</th>\n",
              "      <td>131250</td>\n",
              "      <td>No More School (2000)</td>\n",
              "      <td>Comedy</td>\n",
              "      <td>79570</td>\n",
              "      <td>4.0</td>\n",
              "      <td>2015-03-30 19:16:42</td>\n",
              "    </tr>\n",
              "    <tr>\n",
              "      <th>7502231</th>\n",
              "      <td>131252</td>\n",
              "      <td>Forklift Driver Klaus: The First Day on the Jo...</td>\n",
              "      <td>Comedy|Horror</td>\n",
              "      <td>79570</td>\n",
              "      <td>4.0</td>\n",
              "      <td>2015-03-30 19:20:55</td>\n",
              "    </tr>\n",
              "    <tr>\n",
              "      <th>7502232</th>\n",
              "      <td>131254</td>\n",
              "      <td>Kein Bund für's Leben (2007)</td>\n",
              "      <td>Comedy</td>\n",
              "      <td>79570</td>\n",
              "      <td>4.0</td>\n",
              "      <td>2015-03-30 19:32:59</td>\n",
              "    </tr>\n",
              "    <tr>\n",
              "      <th>7502233</th>\n",
              "      <td>131256</td>\n",
              "      <td>Feuer, Eis &amp; Dosenbier (2002)</td>\n",
              "      <td>Comedy</td>\n",
              "      <td>79570</td>\n",
              "      <td>4.0</td>\n",
              "      <td>2015-03-30 19:48:08</td>\n",
              "    </tr>\n",
              "  </tbody>\n",
              "</table>\n",
              "<p>7502234 rows × 6 columns</p>\n",
              "</div>"
            ],
            "text/plain": [
              "         movieId  ...            timestamp\n",
              "0              1  ...  1999-12-11 13:36:47\n",
              "1              1  ...  1997-03-13 17:50:52\n",
              "2              1  ...  1996-06-05 13:37:51\n",
              "3              1  ...  1999-11-25 02:44:47\n",
              "4              1  ...  2009-01-02 01:13:41\n",
              "...          ...  ...                  ...\n",
              "7502229   131248  ...  2015-03-30 19:04:48\n",
              "7502230   131250  ...  2015-03-30 19:16:42\n",
              "7502231   131252  ...  2015-03-30 19:20:55\n",
              "7502232   131254  ...  2015-03-30 19:32:59\n",
              "7502233   131256  ...  2015-03-30 19:48:08\n",
              "\n",
              "[7502234 rows x 6 columns]"
            ]
          },
          "metadata": {
            "tags": []
          },
          "execution_count": 11
        }
      ]
    },
    {
      "cell_type": "code",
      "metadata": {
        "id": "lVQuGKC2cxJm",
        "colab": {
          "base_uri": "https://localhost:8080/",
          "height": 419
        },
        "outputId": "78eab979-bfc4-4a01-b5de-fb95b4319c9e"
      },
      "source": [
        "#Find the total ratings for each individual Comedy movie.\n",
        "numOfRatingsForEachComedyMovie = comedyRatings['movieId'].value_counts()\n",
        "\n",
        "#Convert series into pandas dataframe.\n",
        "numOfRatingsForEachComedyMovie = numOfRatingsForEachComedyMovie.to_frame()\n",
        "\n",
        "#Cleanup the dataframe by renaming and moving columns.\n",
        "numOfRatingsForEachComedyMovie = numOfRatingsForEachComedyMovie.reset_index()\n",
        "numOfRatingsForEachComedyMovie = numOfRatingsForEachComedyMovie.rename(columns={\"movieId\": \"number of ratings\", \"index\": \"movieId\"})\n",
        "numOfRatingsForEachComedyMovie"
      ],
      "execution_count": null,
      "outputs": [
        {
          "output_type": "execute_result",
          "data": {
            "text/html": [
              "<div>\n",
              "<style scoped>\n",
              "    .dataframe tbody tr th:only-of-type {\n",
              "        vertical-align: middle;\n",
              "    }\n",
              "\n",
              "    .dataframe tbody tr th {\n",
              "        vertical-align: top;\n",
              "    }\n",
              "\n",
              "    .dataframe thead th {\n",
              "        text-align: right;\n",
              "    }\n",
              "</style>\n",
              "<table border=\"1\" class=\"dataframe\">\n",
              "  <thead>\n",
              "    <tr style=\"text-align: right;\">\n",
              "      <th></th>\n",
              "      <th>movieId</th>\n",
              "      <th>number of ratings</th>\n",
              "    </tr>\n",
              "  </thead>\n",
              "  <tbody>\n",
              "    <tr>\n",
              "      <th>0</th>\n",
              "      <td>296</td>\n",
              "      <td>67310</td>\n",
              "    </tr>\n",
              "    <tr>\n",
              "      <th>1</th>\n",
              "      <td>356</td>\n",
              "      <td>66172</td>\n",
              "    </tr>\n",
              "    <tr>\n",
              "      <th>2</th>\n",
              "      <td>1</td>\n",
              "      <td>49695</td>\n",
              "    </tr>\n",
              "    <tr>\n",
              "      <th>3</th>\n",
              "      <td>2858</td>\n",
              "      <td>44987</td>\n",
              "    </tr>\n",
              "    <tr>\n",
              "      <th>4</th>\n",
              "      <td>608</td>\n",
              "      <td>43272</td>\n",
              "    </tr>\n",
              "    <tr>\n",
              "      <th>...</th>\n",
              "      <td>...</td>\n",
              "      <td>...</td>\n",
              "    </tr>\n",
              "    <tr>\n",
              "      <th>8227</th>\n",
              "      <td>74478</td>\n",
              "      <td>1</td>\n",
              "    </tr>\n",
              "    <tr>\n",
              "      <th>8228</th>\n",
              "      <td>116602</td>\n",
              "      <td>1</td>\n",
              "    </tr>\n",
              "    <tr>\n",
              "      <th>8229</th>\n",
              "      <td>87915</td>\n",
              "      <td>1</td>\n",
              "    </tr>\n",
              "    <tr>\n",
              "      <th>8230</th>\n",
              "      <td>105829</td>\n",
              "      <td>1</td>\n",
              "    </tr>\n",
              "    <tr>\n",
              "      <th>8231</th>\n",
              "      <td>126128</td>\n",
              "      <td>1</td>\n",
              "    </tr>\n",
              "  </tbody>\n",
              "</table>\n",
              "<p>8232 rows × 2 columns</p>\n",
              "</div>"
            ],
            "text/plain": [
              "      movieId  number of ratings\n",
              "0         296              67310\n",
              "1         356              66172\n",
              "2           1              49695\n",
              "3        2858              44987\n",
              "4         608              43272\n",
              "...       ...                ...\n",
              "8227    74478                  1\n",
              "8228   116602                  1\n",
              "8229    87915                  1\n",
              "8230   105829                  1\n",
              "8231   126128                  1\n",
              "\n",
              "[8232 rows x 2 columns]"
            ]
          },
          "metadata": {
            "tags": []
          },
          "execution_count": 12
        }
      ]
    },
    {
      "cell_type": "code",
      "metadata": {
        "id": "F_8q-N9x0ZEN",
        "colab": {
          "base_uri": "https://localhost:8080/"
        },
        "outputId": "75034955-9f99-4137-e0a5-4225fd1684d7"
      },
      "source": [
        "#Finding the average number of ratings for each Comedy movie.\n",
        "averageNumberOfRatingsForEachComedyMovie = numOfRatingsForEachComedyMovie['number of ratings'].mean(axis = 0) \n",
        "averageNumberOfRatingsForEachComedyMovie"
      ],
      "execution_count": null,
      "outputs": [
        {
          "output_type": "execute_result",
          "data": {
            "text/plain": [
              "911.3500971817298"
            ]
          },
          "metadata": {
            "tags": []
          },
          "execution_count": 13
        }
      ]
    },
    {
      "cell_type": "code",
      "metadata": {
        "id": "Y2AovB3SczLT",
        "colab": {
          "base_uri": "https://localhost:8080/"
        },
        "outputId": "597b0c87-5acb-44b2-b697-e5f7047f5e3b"
      },
      "source": [
        "#Finding the average number of ratings for each Comedy and Adventure movie.\n",
        "averageNumberOfRatingsForEachMovie = (averageNumberOfRatingsForEachComedyMovie + averageNumberOfRatingsForEachAdventureMovie)/2\n",
        "averageNumberOfRatingsForEachMovie "
      ],
      "execution_count": null,
      "outputs": [
        {
          "output_type": "execute_result",
          "data": {
            "text/plain": [
              "1413.3381443495007"
            ]
          },
          "metadata": {
            "tags": []
          },
          "execution_count": 14
        }
      ]
    },
    {
      "cell_type": "markdown",
      "metadata": {
        "id": "SYJOiwQ0gf_k"
      },
      "source": [
        "The x-axis represents the *Movie ID*, and the y-axis represents the *Total Number of Ratings*."
      ]
    },
    {
      "cell_type": "code",
      "metadata": {
        "id": "-mQDmS2id8pE",
        "colab": {
          "base_uri": "https://localhost:8080/",
          "height": 281
        },
        "outputId": "1a520a1b-81d3-4bc2-872c-3654b680a0f7"
      },
      "source": [
        "#Plot the individual movies and the number of ratings they have.\n",
        "plt.plot() \n",
        "plt.title('Number of Ratings for each Comedy movie') \n",
        "plt.bar(numOfRatingsForEachComedyMovie.index, numOfRatingsForEachComedyMovie['number of ratings']) \n",
        "plt.show() "
      ],
      "execution_count": null,
      "outputs": [
        {
          "output_type": "display_data",
          "data": {
            "image/png": "[encoded data removed]",
            "text/plain": [
              "<Figure size 432x288 with 1 Axes>"
            ]
          },
          "metadata": {
            "tags": [],
            "needs_background": "light"
          }
        }
      ]
    },
    {
      "cell_type": "markdown",
      "metadata": {
        "id": "ayJLg4hSon1V"
      },
      "source": [
        "Removing any Comedy movies with less than 100 ratings to dispose of any outliers.\n",
        "\n"
      ]
    },
    {
      "cell_type": "code",
      "metadata": {
        "id": "xsRVXZ_nhc9a",
        "colab": {
          "base_uri": "https://localhost:8080/",
          "height": 419
        },
        "outputId": "f75ae925-e5e2-4ddb-9fae-9033b9b37da1"
      },
      "source": [
        "#Remove any Comedy movies with less than 100 total ratings.\n",
        "truncatedRatingsForComedy = numOfRatingsForEachComedyMovie[numOfRatingsForEachComedyMovie['number of ratings'] > 99]\n",
        "truncatedRatingsForComedy"
      ],
      "execution_count": null,
      "outputs": [
        {
          "output_type": "execute_result",
          "data": {
            "text/html": [
              "<div>\n",
              "<style scoped>\n",
              "    .dataframe tbody tr th:only-of-type {\n",
              "        vertical-align: middle;\n",
              "    }\n",
              "\n",
              "    .dataframe tbody tr th {\n",
              "        vertical-align: top;\n",
              "    }\n",
              "\n",
              "    .dataframe thead th {\n",
              "        text-align: right;\n",
              "    }\n",
              "</style>\n",
              "<table border=\"1\" class=\"dataframe\">\n",
              "  <thead>\n",
              "    <tr style=\"text-align: right;\">\n",
              "      <th></th>\n",
              "      <th>movieId</th>\n",
              "      <th>number of ratings</th>\n",
              "    </tr>\n",
              "  </thead>\n",
              "  <tbody>\n",
              "    <tr>\n",
              "      <th>0</th>\n",
              "      <td>296</td>\n",
              "      <td>67310</td>\n",
              "    </tr>\n",
              "    <tr>\n",
              "      <th>1</th>\n",
              "      <td>356</td>\n",
              "      <td>66172</td>\n",
              "    </tr>\n",
              "    <tr>\n",
              "      <th>2</th>\n",
              "      <td>1</td>\n",
              "      <td>49695</td>\n",
              "    </tr>\n",
              "    <tr>\n",
              "      <th>3</th>\n",
              "      <td>2858</td>\n",
              "      <td>44987</td>\n",
              "    </tr>\n",
              "    <tr>\n",
              "      <th>4</th>\n",
              "      <td>608</td>\n",
              "      <td>43272</td>\n",
              "    </tr>\n",
              "    <tr>\n",
              "      <th>...</th>\n",
              "      <td>...</td>\n",
              "      <td>...</td>\n",
              "    </tr>\n",
              "    <tr>\n",
              "      <th>3102</th>\n",
              "      <td>6616</td>\n",
              "      <td>101</td>\n",
              "    </tr>\n",
              "    <tr>\n",
              "      <th>3103</th>\n",
              "      <td>69988</td>\n",
              "      <td>101</td>\n",
              "    </tr>\n",
              "    <tr>\n",
              "      <th>3104</th>\n",
              "      <td>3568</td>\n",
              "      <td>101</td>\n",
              "    </tr>\n",
              "    <tr>\n",
              "      <th>3105</th>\n",
              "      <td>4289</td>\n",
              "      <td>101</td>\n",
              "    </tr>\n",
              "    <tr>\n",
              "      <th>3106</th>\n",
              "      <td>30867</td>\n",
              "      <td>100</td>\n",
              "    </tr>\n",
              "  </tbody>\n",
              "</table>\n",
              "<p>3107 rows × 2 columns</p>\n",
              "</div>"
            ],
            "text/plain": [
              "      movieId  number of ratings\n",
              "0         296              67310\n",
              "1         356              66172\n",
              "2           1              49695\n",
              "3        2858              44987\n",
              "4         608              43272\n",
              "...       ...                ...\n",
              "3102     6616                101\n",
              "3103    69988                101\n",
              "3104     3568                101\n",
              "3105     4289                101\n",
              "3106    30867                100\n",
              "\n",
              "[3107 rows x 2 columns]"
            ]
          },
          "metadata": {
            "tags": []
          },
          "execution_count": 16
        }
      ]
    },
    {
      "cell_type": "markdown",
      "metadata": {
        "id": "DJrycte7qVnS"
      },
      "source": [
        "Average number of ratings after excluding all movies with number of ratings below 100."
      ]
    },
    {
      "cell_type": "code",
      "metadata": {
        "id": "Hu-1YW18lj3r",
        "colab": {
          "base_uri": "https://localhost:8080/"
        },
        "outputId": "285ac55c-7c36-483e-9502-a2dcf9393616"
      },
      "source": [
        "#Finding the average number of ratings for each Comedy movie after \n",
        "#removing movies with less than 100 ratings.\n",
        "avgTruncatedRatingsForComedy = truncatedRatingsForComedy['number of ratings'].mean(axis = 0) \n",
        "avgTruncatedRatingsForComedy"
      ],
      "execution_count": null,
      "outputs": [
        {
          "output_type": "execute_result",
          "data": {
            "text/plain": [
              "2385.0753138075315"
            ]
          },
          "metadata": {
            "tags": []
          },
          "execution_count": 17
        }
      ]
    },
    {
      "cell_type": "code",
      "metadata": {
        "id": "jekJoL1AlHpz",
        "colab": {
          "base_uri": "https://localhost:8080/",
          "height": 281
        },
        "outputId": "8628f96b-7ad7-4c95-8dcb-4858426051eb"
      },
      "source": [
        "#Plot to display Comedy movie's with the number of ratings\n",
        "#after removing movies with less than 100 ratings. \n",
        "plt.plot() \n",
        "plt.title('Total number of Ratings for Comedy Movies with more than 100 Ratings') \n",
        "plt.bar(truncatedRatingsForComedy.index, truncatedRatingsForComedy['number of ratings']) \n",
        "plt.show() "
      ],
      "execution_count": null,
      "outputs": [
        {
          "output_type": "display_data",
          "data": {
            "image/png": "[encoded data removed]",
            "text/plain": [
              "<Figure size 432x288 with 1 Axes>"
            ]
          },
          "metadata": {
            "tags": [],
            "needs_background": "light"
          }
        }
      ]
    },
    {
      "cell_type": "code",
      "metadata": {
        "id": "Syefou4brISX",
        "colab": {
          "base_uri": "https://localhost:8080/",
          "height": 419
        },
        "outputId": "1b4626ee-9f5c-4db0-df93-2253dbfedf15"
      },
      "source": [
        "#Remove any Adventure movies with less than 100 total ratings.\n",
        "truncatedRatingsForAdventure = numOfRatingsForEachAdventureMovie[numOfRatingsForEachAdventureMovie['number of ratings'] > 99]\n",
        "truncatedRatingsForAdventure"
      ],
      "execution_count": null,
      "outputs": [
        {
          "output_type": "execute_result",
          "data": {
            "text/html": [
              "<div>\n",
              "<style scoped>\n",
              "    .dataframe tbody tr th:only-of-type {\n",
              "        vertical-align: middle;\n",
              "    }\n",
              "\n",
              "    .dataframe tbody tr th {\n",
              "        vertical-align: top;\n",
              "    }\n",
              "\n",
              "    .dataframe thead th {\n",
              "        text-align: right;\n",
              "    }\n",
              "</style>\n",
              "<table border=\"1\" class=\"dataframe\">\n",
              "  <thead>\n",
              "    <tr style=\"text-align: right;\">\n",
              "      <th></th>\n",
              "      <th>movieId</th>\n",
              "      <th>number of ratings</th>\n",
              "    </tr>\n",
              "  </thead>\n",
              "  <tbody>\n",
              "    <tr>\n",
              "      <th>0</th>\n",
              "      <td>480</td>\n",
              "      <td>59715</td>\n",
              "    </tr>\n",
              "    <tr>\n",
              "      <th>1</th>\n",
              "      <td>260</td>\n",
              "      <td>54502</td>\n",
              "    </tr>\n",
              "    <tr>\n",
              "      <th>2</th>\n",
              "      <td>1</td>\n",
              "      <td>49695</td>\n",
              "    </tr>\n",
              "    <tr>\n",
              "      <th>3</th>\n",
              "      <td>150</td>\n",
              "      <td>47777</td>\n",
              "    </tr>\n",
              "    <tr>\n",
              "      <th>4</th>\n",
              "      <td>780</td>\n",
              "      <td>47048</td>\n",
              "    </tr>\n",
              "    <tr>\n",
              "      <th>...</th>\n",
              "      <td>...</td>\n",
              "      <td>...</td>\n",
              "    </tr>\n",
              "    <tr>\n",
              "      <th>1032</th>\n",
              "      <td>33558</td>\n",
              "      <td>102</td>\n",
              "    </tr>\n",
              "    <tr>\n",
              "      <th>1033</th>\n",
              "      <td>41411</td>\n",
              "      <td>102</td>\n",
              "    </tr>\n",
              "    <tr>\n",
              "      <th>1034</th>\n",
              "      <td>65435</td>\n",
              "      <td>102</td>\n",
              "    </tr>\n",
              "    <tr>\n",
              "      <th>1035</th>\n",
              "      <td>6173</td>\n",
              "      <td>101</td>\n",
              "    </tr>\n",
              "    <tr>\n",
              "      <th>1036</th>\n",
              "      <td>112911</td>\n",
              "      <td>100</td>\n",
              "    </tr>\n",
              "  </tbody>\n",
              "</table>\n",
              "<p>1037 rows × 2 columns</p>\n",
              "</div>"
            ],
            "text/plain": [
              "      movieId  number of ratings\n",
              "0         480              59715\n",
              "1         260              54502\n",
              "2           1              49695\n",
              "3         150              47777\n",
              "4         780              47048\n",
              "...       ...                ...\n",
              "1032    33558                102\n",
              "1033    41411                102\n",
              "1034    65435                102\n",
              "1035     6173                101\n",
              "1036   112911                100\n",
              "\n",
              "[1037 rows x 2 columns]"
            ]
          },
          "metadata": {
            "tags": []
          },
          "execution_count": 19
        }
      ]
    },
    {
      "cell_type": "code",
      "metadata": {
        "id": "3WxPpggbr6RG",
        "colab": {
          "base_uri": "https://localhost:8080/"
        },
        "outputId": "2f0aac89-1df2-4e23-8c24-88f2083f315b"
      },
      "source": [
        "#Finding the average number of ratings for each Adventure movie after \n",
        "#removing movies with less than 100 ratings.\n",
        "avgtruncatedRatingsForAdventure = truncatedRatingsForAdventure['number of ratings'].mean(axis = 0) \n",
        "avgtruncatedRatingsForAdventure"
      ],
      "execution_count": null,
      "outputs": [
        {
          "output_type": "execute_result",
          "data": {
            "text/plain": [
              "4202.999035679845"
            ]
          },
          "metadata": {
            "tags": []
          },
          "execution_count": 20
        }
      ]
    },
    {
      "cell_type": "code",
      "metadata": {
        "id": "I-TV1SrDroQB",
        "colab": {
          "base_uri": "https://localhost:8080/",
          "height": 281
        },
        "outputId": "7559a005-8020-4ae6-ab94-9dcd5258e538"
      },
      "source": [
        "#Plot to display Adventure movie's with the number of ratings\n",
        "#after removing movies with less than 100 ratings. \n",
        "plt.plot() \n",
        "plt.title('Total number of Ratings for Adventure Movies with more than 100 Ratings') \n",
        "plt.bar(truncatedRatingsForAdventure.index, truncatedRatingsForAdventure['number of ratings']) \n",
        "plt.show() "
      ],
      "execution_count": null,
      "outputs": [
        {
          "output_type": "display_data",
          "data": {
            "image/png": "[encoded data removed]",
            "text/plain": [
              "<Figure size 432x288 with 1 Axes>"
            ]
          },
          "metadata": {
            "tags": [],
            "needs_background": "light"
          }
        }
      ]
    },
    {
      "cell_type": "markdown",
      "metadata": {
        "id": "1OKXkRJ4ws-e"
      },
      "source": [
        "# User data for Adventure movies"
      ]
    },
    {
      "cell_type": "code",
      "metadata": {
        "id": "yPlR7HBmEqjd",
        "colab": {
          "base_uri": "https://localhost:8080/",
          "height": 419
        },
        "outputId": "5d7e63d8-0eb0-4723-a2fc-90e8596a9f8b"
      },
      "source": [
        "##inner-merging the culled Adventure movie ratings dataframe with the ratings dataframe to eliminate any ratings that \n",
        "#do not show up in the culled dataframe.\n",
        "truncatedUserDataForAdventureMovies = pd.merge(truncatedRatingsForAdventure, ratings, on=['movieId'], how='inner')\n",
        "truncatedUserDataForAdventureMovies = truncatedUserDataForAdventureMovies.drop(['number of ratings'], axis=1)\n",
        "truncatedUserDataForAdventureMovies"
      ],
      "execution_count": null,
      "outputs": [
        {
          "output_type": "execute_result",
          "data": {
            "text/html": [
              "<div>\n",
              "<style scoped>\n",
              "    .dataframe tbody tr th:only-of-type {\n",
              "        vertical-align: middle;\n",
              "    }\n",
              "\n",
              "    .dataframe tbody tr th {\n",
              "        vertical-align: top;\n",
              "    }\n",
              "\n",
              "    .dataframe thead th {\n",
              "        text-align: right;\n",
              "    }\n",
              "</style>\n",
              "<table border=\"1\" class=\"dataframe\">\n",
              "  <thead>\n",
              "    <tr style=\"text-align: right;\">\n",
              "      <th></th>\n",
              "      <th>movieId</th>\n",
              "      <th>userId</th>\n",
              "      <th>rating</th>\n",
              "      <th>timestamp</th>\n",
              "    </tr>\n",
              "  </thead>\n",
              "  <tbody>\n",
              "    <tr>\n",
              "      <th>0</th>\n",
              "      <td>480</td>\n",
              "      <td>2</td>\n",
              "      <td>5.0</td>\n",
              "      <td>2000-11-21 15:32:00</td>\n",
              "    </tr>\n",
              "    <tr>\n",
              "      <th>1</th>\n",
              "      <td>480</td>\n",
              "      <td>3</td>\n",
              "      <td>5.0</td>\n",
              "      <td>1999-12-14 12:50:20</td>\n",
              "    </tr>\n",
              "    <tr>\n",
              "      <th>2</th>\n",
              "      <td>480</td>\n",
              "      <td>4</td>\n",
              "      <td>4.0</td>\n",
              "      <td>1996-08-24 09:29:04</td>\n",
              "    </tr>\n",
              "    <tr>\n",
              "      <th>3</th>\n",
              "      <td>480</td>\n",
              "      <td>5</td>\n",
              "      <td>4.0</td>\n",
              "      <td>1996-12-25 15:25:15</td>\n",
              "    </tr>\n",
              "    <tr>\n",
              "      <th>4</th>\n",
              "      <td>480</td>\n",
              "      <td>7</td>\n",
              "      <td>5.0</td>\n",
              "      <td>2002-01-16 18:46:19</td>\n",
              "    </tr>\n",
              "    <tr>\n",
              "      <th>...</th>\n",
              "      <td>...</td>\n",
              "      <td>...</td>\n",
              "      <td>...</td>\n",
              "      <td>...</td>\n",
              "    </tr>\n",
              "    <tr>\n",
              "      <th>4358505</th>\n",
              "      <td>112911</td>\n",
              "      <td>131407</td>\n",
              "      <td>3.5</td>\n",
              "      <td>2014-10-28 06:57:34</td>\n",
              "    </tr>\n",
              "    <tr>\n",
              "      <th>4358506</th>\n",
              "      <td>112911</td>\n",
              "      <td>131904</td>\n",
              "      <td>3.0</td>\n",
              "      <td>2014-10-31 21:02:33</td>\n",
              "    </tr>\n",
              "    <tr>\n",
              "      <th>4358507</th>\n",
              "      <td>112911</td>\n",
              "      <td>132595</td>\n",
              "      <td>3.0</td>\n",
              "      <td>2015-01-08 04:14:57</td>\n",
              "    </tr>\n",
              "    <tr>\n",
              "      <th>4358508</th>\n",
              "      <td>112911</td>\n",
              "      <td>135765</td>\n",
              "      <td>3.0</td>\n",
              "      <td>2014-11-17 21:56:27</td>\n",
              "    </tr>\n",
              "    <tr>\n",
              "      <th>4358509</th>\n",
              "      <td>112911</td>\n",
              "      <td>137031</td>\n",
              "      <td>3.5</td>\n",
              "      <td>2015-01-21 02:26:53</td>\n",
              "    </tr>\n",
              "  </tbody>\n",
              "</table>\n",
              "<p>4358510 rows × 4 columns</p>\n",
              "</div>"
            ],
            "text/plain": [
              "         movieId  userId  rating            timestamp\n",
              "0            480       2     5.0  2000-11-21 15:32:00\n",
              "1            480       3     5.0  1999-12-14 12:50:20\n",
              "2            480       4     4.0  1996-08-24 09:29:04\n",
              "3            480       5     4.0  1996-12-25 15:25:15\n",
              "4            480       7     5.0  2002-01-16 18:46:19\n",
              "...          ...     ...     ...                  ...\n",
              "4358505   112911  131407     3.5  2014-10-28 06:57:34\n",
              "4358506   112911  131904     3.0  2014-10-31 21:02:33\n",
              "4358507   112911  132595     3.0  2015-01-08 04:14:57\n",
              "4358508   112911  135765     3.0  2014-11-17 21:56:27\n",
              "4358509   112911  137031     3.5  2015-01-21 02:26:53\n",
              "\n",
              "[4358510 rows x 4 columns]"
            ]
          },
          "metadata": {
            "tags": []
          },
          "execution_count": 22
        }
      ]
    },
    {
      "cell_type": "code",
      "metadata": {
        "id": "B0U6ZcuIlCCN",
        "colab": {
          "base_uri": "https://localhost:8080/",
          "height": 419
        },
        "outputId": "4de73400-f0e8-47a2-f917-8ece1ebe28a7"
      },
      "source": [
        "#Finding the average rating for each user in the Adventure Genre.\n",
        "averageTruncatedUserRatingsForAdventureMovies = truncatedUserDataForAdventureMovies.groupby('userId')['rating'].mean()\n",
        "\n",
        "#Cleanup the dataframe by renaming and moving columns.\n",
        "averageTruncatedUserRatingsForAdventureMovies = averageTruncatedUserRatingsForAdventureMovies.reset_index()\n",
        "averageTruncatedUserRatingsForAdventureMovies = averageTruncatedUserRatingsForAdventureMovies.rename(columns={\"rating\": \"average adventure rating\"})\n",
        "averageTruncatedUserRatingsForAdventureMovies"
      ],
      "execution_count": null,
      "outputs": [
        {
          "output_type": "execute_result",
          "data": {
            "text/html": [
              "<div>\n",
              "<style scoped>\n",
              "    .dataframe tbody tr th:only-of-type {\n",
              "        vertical-align: middle;\n",
              "    }\n",
              "\n",
              "    .dataframe tbody tr th {\n",
              "        vertical-align: top;\n",
              "    }\n",
              "\n",
              "    .dataframe thead th {\n",
              "        text-align: right;\n",
              "    }\n",
              "</style>\n",
              "<table border=\"1\" class=\"dataframe\">\n",
              "  <thead>\n",
              "    <tr style=\"text-align: right;\">\n",
              "      <th></th>\n",
              "      <th>userId</th>\n",
              "      <th>average adventure rating</th>\n",
              "    </tr>\n",
              "  </thead>\n",
              "  <tbody>\n",
              "    <tr>\n",
              "      <th>0</th>\n",
              "      <td>1</td>\n",
              "      <td>3.787671</td>\n",
              "    </tr>\n",
              "    <tr>\n",
              "      <th>1</th>\n",
              "      <td>2</td>\n",
              "      <td>4.823529</td>\n",
              "    </tr>\n",
              "    <tr>\n",
              "      <th>2</th>\n",
              "      <td>3</td>\n",
              "      <td>4.220000</td>\n",
              "    </tr>\n",
              "    <tr>\n",
              "      <th>3</th>\n",
              "      <td>4</td>\n",
              "      <td>3.833333</td>\n",
              "    </tr>\n",
              "    <tr>\n",
              "      <th>4</th>\n",
              "      <td>5</td>\n",
              "      <td>4.523810</td>\n",
              "    </tr>\n",
              "    <tr>\n",
              "      <th>...</th>\n",
              "      <td>...</td>\n",
              "      <td>...</td>\n",
              "    </tr>\n",
              "    <tr>\n",
              "      <th>137874</th>\n",
              "      <td>138489</td>\n",
              "      <td>3.916667</td>\n",
              "    </tr>\n",
              "    <tr>\n",
              "      <th>137875</th>\n",
              "      <td>138490</td>\n",
              "      <td>4.000000</td>\n",
              "    </tr>\n",
              "    <tr>\n",
              "      <th>137876</th>\n",
              "      <td>138491</td>\n",
              "      <td>2.562500</td>\n",
              "    </tr>\n",
              "    <tr>\n",
              "      <th>137877</th>\n",
              "      <td>138492</td>\n",
              "      <td>3.558824</td>\n",
              "    </tr>\n",
              "    <tr>\n",
              "      <th>137878</th>\n",
              "      <td>138493</td>\n",
              "      <td>3.990909</td>\n",
              "    </tr>\n",
              "  </tbody>\n",
              "</table>\n",
              "<p>137879 rows × 2 columns</p>\n",
              "</div>"
            ],
            "text/plain": [
              "        userId  average adventure rating\n",
              "0            1                  3.787671\n",
              "1            2                  4.823529\n",
              "2            3                  4.220000\n",
              "3            4                  3.833333\n",
              "4            5                  4.523810\n",
              "...        ...                       ...\n",
              "137874  138489                  3.916667\n",
              "137875  138490                  4.000000\n",
              "137876  138491                  2.562500\n",
              "137877  138492                  3.558824\n",
              "137878  138493                  3.990909\n",
              "\n",
              "[137879 rows x 2 columns]"
            ]
          },
          "metadata": {
            "tags": []
          },
          "execution_count": 23
        }
      ]
    },
    {
      "cell_type": "markdown",
      "metadata": {
        "id": "TrdEeXmgw4ld"
      },
      "source": [
        "# User data for Comedy movies"
      ]
    },
    {
      "cell_type": "code",
      "metadata": {
        "id": "rEKxgY-sEBQi",
        "colab": {
          "base_uri": "https://localhost:8080/",
          "height": 419
        },
        "outputId": "59b8a23e-7825-4ff9-b5d7-48643db17817"
      },
      "source": [
        "##inner-merging the culled Comedy movie ratings dataframe with the ratings dataframe to eliminate any ratings that \n",
        "#do not show up in the culled dataframe.\n",
        "truncatedUserDataForComedyMovies = pd.merge(truncatedRatingsForComedy, ratings, on=['movieId'], how='inner')\n",
        "truncatedUserDataForComedyMovies = truncatedUserDataForComedyMovies.drop(['number of ratings'], axis=1)\n",
        "truncatedUserDataForComedyMovies"
      ],
      "execution_count": null,
      "outputs": [
        {
          "output_type": "execute_result",
          "data": {
            "text/html": [
              "<div>\n",
              "<style scoped>\n",
              "    .dataframe tbody tr th:only-of-type {\n",
              "        vertical-align: middle;\n",
              "    }\n",
              "\n",
              "    .dataframe tbody tr th {\n",
              "        vertical-align: top;\n",
              "    }\n",
              "\n",
              "    .dataframe thead th {\n",
              "        text-align: right;\n",
              "    }\n",
              "</style>\n",
              "<table border=\"1\" class=\"dataframe\">\n",
              "  <thead>\n",
              "    <tr style=\"text-align: right;\">\n",
              "      <th></th>\n",
              "      <th>movieId</th>\n",
              "      <th>userId</th>\n",
              "      <th>rating</th>\n",
              "      <th>timestamp</th>\n",
              "    </tr>\n",
              "  </thead>\n",
              "  <tbody>\n",
              "    <tr>\n",
              "      <th>0</th>\n",
              "      <td>296</td>\n",
              "      <td>1</td>\n",
              "      <td>4.0</td>\n",
              "      <td>2005-04-02 23:32:47</td>\n",
              "    </tr>\n",
              "    <tr>\n",
              "      <th>1</th>\n",
              "      <td>296</td>\n",
              "      <td>8</td>\n",
              "      <td>5.0</td>\n",
              "      <td>1996-06-05 11:11:21</td>\n",
              "    </tr>\n",
              "    <tr>\n",
              "      <th>2</th>\n",
              "      <td>296</td>\n",
              "      <td>11</td>\n",
              "      <td>3.5</td>\n",
              "      <td>2009-01-02 01:13:19</td>\n",
              "    </tr>\n",
              "    <tr>\n",
              "      <th>3</th>\n",
              "      <td>296</td>\n",
              "      <td>13</td>\n",
              "      <td>5.0</td>\n",
              "      <td>1996-11-27 08:12:46</td>\n",
              "    </tr>\n",
              "    <tr>\n",
              "      <th>4</th>\n",
              "      <td>296</td>\n",
              "      <td>15</td>\n",
              "      <td>3.0</td>\n",
              "      <td>1996-08-16 14:44:02</td>\n",
              "    </tr>\n",
              "    <tr>\n",
              "      <th>...</th>\n",
              "      <td>...</td>\n",
              "      <td>...</td>\n",
              "      <td>...</td>\n",
              "      <td>...</td>\n",
              "    </tr>\n",
              "    <tr>\n",
              "      <th>7410424</th>\n",
              "      <td>30867</td>\n",
              "      <td>134210</td>\n",
              "      <td>1.0</td>\n",
              "      <td>2010-05-01 23:11:09</td>\n",
              "    </tr>\n",
              "    <tr>\n",
              "      <th>7410425</th>\n",
              "      <td>30867</td>\n",
              "      <td>135186</td>\n",
              "      <td>3.0</td>\n",
              "      <td>2010-06-27 02:12:00</td>\n",
              "    </tr>\n",
              "    <tr>\n",
              "      <th>7410426</th>\n",
              "      <td>30867</td>\n",
              "      <td>135419</td>\n",
              "      <td>4.0</td>\n",
              "      <td>2009-10-02 18:24:21</td>\n",
              "    </tr>\n",
              "    <tr>\n",
              "      <th>7410427</th>\n",
              "      <td>30867</td>\n",
              "      <td>136268</td>\n",
              "      <td>2.0</td>\n",
              "      <td>2009-04-29 23:59:18</td>\n",
              "    </tr>\n",
              "    <tr>\n",
              "      <th>7410428</th>\n",
              "      <td>30867</td>\n",
              "      <td>138034</td>\n",
              "      <td>5.0</td>\n",
              "      <td>2012-09-03 03:33:30</td>\n",
              "    </tr>\n",
              "  </tbody>\n",
              "</table>\n",
              "<p>7410429 rows × 4 columns</p>\n",
              "</div>"
            ],
            "text/plain": [
              "         movieId  userId  rating            timestamp\n",
              "0            296       1     4.0  2005-04-02 23:32:47\n",
              "1            296       8     5.0  1996-06-05 11:11:21\n",
              "2            296      11     3.5  2009-01-02 01:13:19\n",
              "3            296      13     5.0  1996-11-27 08:12:46\n",
              "4            296      15     3.0  1996-08-16 14:44:02\n",
              "...          ...     ...     ...                  ...\n",
              "7410424    30867  134210     1.0  2010-05-01 23:11:09\n",
              "7410425    30867  135186     3.0  2010-06-27 02:12:00\n",
              "7410426    30867  135419     4.0  2009-10-02 18:24:21\n",
              "7410427    30867  136268     2.0  2009-04-29 23:59:18\n",
              "7410428    30867  138034     5.0  2012-09-03 03:33:30\n",
              "\n",
              "[7410429 rows x 4 columns]"
            ]
          },
          "metadata": {
            "tags": []
          },
          "execution_count": 24
        }
      ]
    },
    {
      "cell_type": "code",
      "metadata": {
        "id": "waIE9pploR5m",
        "colab": {
          "base_uri": "https://localhost:8080/",
          "height": 419
        },
        "outputId": "bc9f5332-8d2b-40ac-f1bd-3b8ef2dc56f0"
      },
      "source": [
        "#Finding the average rating for each user in the Comedy Genre.\n",
        "averageTruncatedUserRatingsForComedyMovies = truncatedUserDataForComedyMovies.groupby('userId')['rating'].mean()\n",
        "\n",
        "#Cleanup the dataframe by renaming and moving columns.\n",
        "averageTruncatedUserRatingsForComedyMovies = averageTruncatedUserRatingsForComedyMovies.reset_index()\n",
        "averageTruncatedUserRatingsForComedyMovies = averageTruncatedUserRatingsForComedyMovies.rename(columns={\"rating\": \"average comedy rating\"})\n",
        "averageTruncatedUserRatingsForComedyMovies"
      ],
      "execution_count": null,
      "outputs": [
        {
          "output_type": "execute_result",
          "data": {
            "text/html": [
              "<div>\n",
              "<style scoped>\n",
              "    .dataframe tbody tr th:only-of-type {\n",
              "        vertical-align: middle;\n",
              "    }\n",
              "\n",
              "    .dataframe tbody tr th {\n",
              "        vertical-align: top;\n",
              "    }\n",
              "\n",
              "    .dataframe thead th {\n",
              "        text-align: right;\n",
              "    }\n",
              "</style>\n",
              "<table border=\"1\" class=\"dataframe\">\n",
              "  <thead>\n",
              "    <tr style=\"text-align: right;\">\n",
              "      <th></th>\n",
              "      <th>userId</th>\n",
              "      <th>average comedy rating</th>\n",
              "    </tr>\n",
              "  </thead>\n",
              "  <tbody>\n",
              "    <tr>\n",
              "      <th>0</th>\n",
              "      <td>1</td>\n",
              "      <td>3.737500</td>\n",
              "    </tr>\n",
              "    <tr>\n",
              "      <th>1</th>\n",
              "      <td>2</td>\n",
              "      <td>3.900000</td>\n",
              "    </tr>\n",
              "    <tr>\n",
              "      <th>2</th>\n",
              "      <td>3</td>\n",
              "      <td>4.057692</td>\n",
              "    </tr>\n",
              "    <tr>\n",
              "      <th>3</th>\n",
              "      <td>4</td>\n",
              "      <td>3.545455</td>\n",
              "    </tr>\n",
              "    <tr>\n",
              "      <th>4</th>\n",
              "      <td>5</td>\n",
              "      <td>4.083333</td>\n",
              "    </tr>\n",
              "    <tr>\n",
              "      <th>...</th>\n",
              "      <td>...</td>\n",
              "      <td>...</td>\n",
              "    </tr>\n",
              "    <tr>\n",
              "      <th>138445</th>\n",
              "      <td>138489</td>\n",
              "      <td>3.636364</td>\n",
              "    </tr>\n",
              "    <tr>\n",
              "      <th>138446</th>\n",
              "      <td>138490</td>\n",
              "      <td>3.468750</td>\n",
              "    </tr>\n",
              "    <tr>\n",
              "      <th>138447</th>\n",
              "      <td>138491</td>\n",
              "      <td>2.650000</td>\n",
              "    </tr>\n",
              "    <tr>\n",
              "      <th>138448</th>\n",
              "      <td>138492</td>\n",
              "      <td>4.037736</td>\n",
              "    </tr>\n",
              "    <tr>\n",
              "      <th>138449</th>\n",
              "      <td>138493</td>\n",
              "      <td>4.217391</td>\n",
              "    </tr>\n",
              "  </tbody>\n",
              "</table>\n",
              "<p>138450 rows × 2 columns</p>\n",
              "</div>"
            ],
            "text/plain": [
              "        userId  average comedy rating\n",
              "0            1               3.737500\n",
              "1            2               3.900000\n",
              "2            3               4.057692\n",
              "3            4               3.545455\n",
              "4            5               4.083333\n",
              "...        ...                    ...\n",
              "138445  138489               3.636364\n",
              "138446  138490               3.468750\n",
              "138447  138491               2.650000\n",
              "138448  138492               4.037736\n",
              "138449  138493               4.217391\n",
              "\n",
              "[138450 rows x 2 columns]"
            ]
          },
          "metadata": {
            "tags": []
          },
          "execution_count": 25
        }
      ]
    },
    {
      "cell_type": "code",
      "metadata": {
        "id": "TL0MAyC3pMIH",
        "colab": {
          "base_uri": "https://localhost:8080/",
          "height": 419
        },
        "outputId": "538b5792-754b-4026-e0e5-ebc4de16418f"
      },
      "source": [
        "#Merge both dataframe genres containing the average ratings per user into\n",
        "#one dataframe.\n",
        "twoGenresUserRatings = pd.merge(averageTruncatedUserRatingsForAdventureMovies, averageTruncatedUserRatingsForComedyMovies, on=['userId'], how='inner')\n",
        "twoGenresUserRatings"
      ],
      "execution_count": null,
      "outputs": [
        {
          "output_type": "execute_result",
          "data": {
            "text/html": [
              "<div>\n",
              "<style scoped>\n",
              "    .dataframe tbody tr th:only-of-type {\n",
              "        vertical-align: middle;\n",
              "    }\n",
              "\n",
              "    .dataframe tbody tr th {\n",
              "        vertical-align: top;\n",
              "    }\n",
              "\n",
              "    .dataframe thead th {\n",
              "        text-align: right;\n",
              "    }\n",
              "</style>\n",
              "<table border=\"1\" class=\"dataframe\">\n",
              "  <thead>\n",
              "    <tr style=\"text-align: right;\">\n",
              "      <th></th>\n",
              "      <th>userId</th>\n",
              "      <th>average adventure rating</th>\n",
              "      <th>average comedy rating</th>\n",
              "    </tr>\n",
              "  </thead>\n",
              "  <tbody>\n",
              "    <tr>\n",
              "      <th>0</th>\n",
              "      <td>1</td>\n",
              "      <td>3.787671</td>\n",
              "      <td>3.737500</td>\n",
              "    </tr>\n",
              "    <tr>\n",
              "      <th>1</th>\n",
              "      <td>2</td>\n",
              "      <td>4.823529</td>\n",
              "      <td>3.900000</td>\n",
              "    </tr>\n",
              "    <tr>\n",
              "      <th>2</th>\n",
              "      <td>3</td>\n",
              "      <td>4.220000</td>\n",
              "      <td>4.057692</td>\n",
              "    </tr>\n",
              "    <tr>\n",
              "      <th>3</th>\n",
              "      <td>4</td>\n",
              "      <td>3.833333</td>\n",
              "      <td>3.545455</td>\n",
              "    </tr>\n",
              "    <tr>\n",
              "      <th>4</th>\n",
              "      <td>5</td>\n",
              "      <td>4.523810</td>\n",
              "      <td>4.083333</td>\n",
              "    </tr>\n",
              "    <tr>\n",
              "      <th>...</th>\n",
              "      <td>...</td>\n",
              "      <td>...</td>\n",
              "      <td>...</td>\n",
              "    </tr>\n",
              "    <tr>\n",
              "      <th>137833</th>\n",
              "      <td>138489</td>\n",
              "      <td>3.916667</td>\n",
              "      <td>3.636364</td>\n",
              "    </tr>\n",
              "    <tr>\n",
              "      <th>137834</th>\n",
              "      <td>138490</td>\n",
              "      <td>4.000000</td>\n",
              "      <td>3.468750</td>\n",
              "    </tr>\n",
              "    <tr>\n",
              "      <th>137835</th>\n",
              "      <td>138491</td>\n",
              "      <td>2.562500</td>\n",
              "      <td>2.650000</td>\n",
              "    </tr>\n",
              "    <tr>\n",
              "      <th>137836</th>\n",
              "      <td>138492</td>\n",
              "      <td>3.558824</td>\n",
              "      <td>4.037736</td>\n",
              "    </tr>\n",
              "    <tr>\n",
              "      <th>137837</th>\n",
              "      <td>138493</td>\n",
              "      <td>3.990909</td>\n",
              "      <td>4.217391</td>\n",
              "    </tr>\n",
              "  </tbody>\n",
              "</table>\n",
              "<p>137838 rows × 3 columns</p>\n",
              "</div>"
            ],
            "text/plain": [
              "        userId  average adventure rating  average comedy rating\n",
              "0            1                  3.787671               3.737500\n",
              "1            2                  4.823529               3.900000\n",
              "2            3                  4.220000               4.057692\n",
              "3            4                  3.833333               3.545455\n",
              "4            5                  4.523810               4.083333\n",
              "...        ...                       ...                    ...\n",
              "137833  138489                  3.916667               3.636364\n",
              "137834  138490                  4.000000               3.468750\n",
              "137835  138491                  2.562500               2.650000\n",
              "137836  138492                  3.558824               4.037736\n",
              "137837  138493                  3.990909               4.217391\n",
              "\n",
              "[137838 rows x 3 columns]"
            ]
          },
          "metadata": {
            "tags": []
          },
          "execution_count": 26
        }
      ]
    },
    {
      "cell_type": "markdown",
      "metadata": {
        "id": "KUmj30nN7Vye"
      },
      "source": [
        "# Explicit Average Values"
      ]
    },
    {
      "cell_type": "code",
      "metadata": {
        "id": "YUlIk18v2x5w",
        "colab": {
          "base_uri": "https://localhost:8080/"
        },
        "outputId": "cf9f523e-8269-40ca-f2f4-3f798175b740"
      },
      "source": [
        "#Finding the average rating score for each Adventure movie after \n",
        "#removing movies with less than 100 ratings.\n",
        "avgtruncatedScoreForAdventure = twoGenresUserRatings['average adventure rating'].mean(axis = 0) \n",
        "avgtruncatedScoreForAdventure"
      ],
      "execution_count": null,
      "outputs": [
        {
          "output_type": "execute_result",
          "data": {
            "text/plain": [
              "3.5561473809118556"
            ]
          },
          "metadata": {
            "tags": []
          },
          "execution_count": 27
        }
      ]
    },
    {
      "cell_type": "code",
      "metadata": {
        "id": "uchNPmGc3FfP",
        "colab": {
          "base_uri": "https://localhost:8080/"
        },
        "outputId": "80469a86-7911-48be-a35f-e84162261783"
      },
      "source": [
        "#Finding the average rating score for each Adventure movie after \n",
        "#removing movies with less than 100 ratings.\n",
        "avgtruncatedScoreForComedy = twoGenresUserRatings['average comedy rating'].mean(axis = 0) \n",
        "avgtruncatedScoreForComedy"
      ],
      "execution_count": null,
      "outputs": [
        {
          "output_type": "execute_result",
          "data": {
            "text/plain": [
              "3.5192336070785935"
            ]
          },
          "metadata": {
            "tags": []
          },
          "execution_count": 28
        }
      ]
    },
    {
      "cell_type": "code",
      "metadata": {
        "id": "WI_h6Pmv3PNU",
        "colab": {
          "base_uri": "https://localhost:8080/"
        },
        "outputId": "fe37da38-b1e5-4fc4-fd13-9062b5d8ed0b"
      },
      "source": [
        "#Finding the average rating score for each Adventure movie after \n",
        "#removing movies with less than 100 ratings.\n",
        "avgTruncatedScoreForBothGenres = (avgtruncatedScoreForComedy + avgtruncatedScoreForAdventure)/2\n",
        "avgTruncatedScoreForBothGenres"
      ],
      "execution_count": null,
      "outputs": [
        {
          "output_type": "execute_result",
          "data": {
            "text/plain": [
              "3.5376904939952247"
            ]
          },
          "metadata": {
            "tags": []
          },
          "execution_count": 29
        }
      ]
    },
    {
      "cell_type": "markdown",
      "metadata": {
        "id": "T82JUxG0shui"
      },
      "source": [
        "# Setting up and running the kmeans model."
      ]
    },
    {
      "cell_type": "markdown",
      "metadata": {
        "id": "6obqWlR0Xx-O"
      },
      "source": [
        "We take the average ratings for both Comedy and Adventure movies and shape it to fit our kmeans clustering model. "
      ]
    },
    {
      "cell_type": "code",
      "metadata": {
        "id": "N2JagCVBoDGC"
      },
      "source": [
        "#define the shape of the comedy ratings dataframe\n",
        "X = [twoGenresUserRatings['average comedy rating'], twoGenresUserRatings['average adventure rating']]\n",
        "X = np.array(list(zip(twoGenresUserRatings['average comedy rating'], twoGenresUserRatings['average adventure rating']))).reshape(len(twoGenresUserRatings['userId']), 2) "
      ],
      "execution_count": null,
      "outputs": []
    },
    {
      "cell_type": "markdown",
      "metadata": {
        "id": "_Zq0qjjRulHA"
      },
      "source": [
        "Establish a kmeans model using distortions to find the *elbow*, which will help us determine the optimal number of clusters. \n",
        "\n"
      ]
    },
    {
      "cell_type": "code",
      "metadata": {
        "id": "RmRQOyeHlSuN"
      },
      "source": [
        "#establish the kmeans model\n",
        "distortions = [] \n",
        "mapping = {} \n",
        "K = range(3,10)\n",
        "\n",
        "for k in K: \n",
        "    #Building and fitting the model \n",
        "    kmeanModelKneeGraph = KMeans(n_clusters=k).fit(X) \n",
        "    kmeanModelKneeGraph.fit(X)     \n",
        "\n",
        "    distortions.append(sum(np.min(cdist(X, kmeanModelKneeGraph.cluster_centers_, \n",
        "                      'euclidean'),axis=1)) / X.shape[0]) \n",
        "  \n",
        "    mapping[k] = sum(np.min(cdist(X, kmeanModelKneeGraph.cluster_centers_, \n",
        "                 'euclidean'),axis=1)) / X.shape[0] "
      ],
      "execution_count": null,
      "outputs": []
    },
    {
      "cell_type": "markdown",
      "metadata": {
        "id": "LM1fM7Vaw_an"
      },
      "source": [
        "Plotting the elbow graph."
      ]
    },
    {
      "cell_type": "code",
      "metadata": {
        "id": "anS-VmNvunyX",
        "colab": {
          "base_uri": "https://localhost:8080/",
          "height": 295
        },
        "outputId": "e25d763d-6619-4ac6-cd0e-cf921c73b856"
      },
      "source": [
        "plt.plot(K, distortions, 'bx-') \n",
        "plt.xlabel('Values of K') \n",
        "plt.ylabel('Distortion') \n",
        "plt.title('The Elbow Method using Distortion') \n",
        "plt.show() "
      ],
      "execution_count": null,
      "outputs": [
        {
          "output_type": "display_data",
          "data": {
            "image/png": "[encoded data removed]",
            "text/plain": [
              "<Figure size 432x288 with 1 Axes>"
            ]
          },
          "metadata": {
            "tags": [],
            "needs_background": "light"
          }
        }
      ]
    },
    {
      "cell_type": "markdown",
      "metadata": {
        "id": "tFuT4pf2xw9N"
      },
      "source": [
        "Running another Kmeans clustering model using 5 as our number of clusters. We chose this to help draw some conclusions between the two genres later on. "
      ]
    },
    {
      "cell_type": "code",
      "metadata": {
        "id": "LKmZu8zneSiE",
        "colab": {
          "base_uri": "https://localhost:8080/",
          "height": 359
        },
        "outputId": "18df864f-d1ad-4fc7-a247-b4ff0b042814"
      },
      "source": [
        "kmeans = KMeans(n_clusters = 5, init ='k-means++')\n",
        "kmeans.fit(twoGenresUserRatings[twoGenresUserRatings.columns[1:3]]) # Compute k-means clustering.\n",
        "twoGenresUserRatings['cluster_label'] = kmeans.fit_predict(twoGenresUserRatings[twoGenresUserRatings.columns[1:3]])\n",
        "centers = kmeans.cluster_centers_ # Coordinates of cluster centers.\n",
        "labels = kmeans.predict(twoGenresUserRatings[twoGenresUserRatings.columns[1:3]]) # Labels of each point\n",
        "twoGenresUserRatings.head(10)"
      ],
      "execution_count": null,
      "outputs": [
        {
          "output_type": "execute_result",
          "data": {
            "text/html": [
              "<div>\n",
              "<style scoped>\n",
              "    .dataframe tbody tr th:only-of-type {\n",
              "        vertical-align: middle;\n",
              "    }\n",
              "\n",
              "    .dataframe tbody tr th {\n",
              "        vertical-align: top;\n",
              "    }\n",
              "\n",
              "    .dataframe thead th {\n",
              "        text-align: right;\n",
              "    }\n",
              "</style>\n",
              "<table border=\"1\" class=\"dataframe\">\n",
              "  <thead>\n",
              "    <tr style=\"text-align: right;\">\n",
              "      <th></th>\n",
              "      <th>userId</th>\n",
              "      <th>average adventure rating</th>\n",
              "      <th>average comedy rating</th>\n",
              "      <th>cluster_label</th>\n",
              "    </tr>\n",
              "  </thead>\n",
              "  <tbody>\n",
              "    <tr>\n",
              "      <th>0</th>\n",
              "      <td>1</td>\n",
              "      <td>3.787671</td>\n",
              "      <td>3.737500</td>\n",
              "      <td>1</td>\n",
              "    </tr>\n",
              "    <tr>\n",
              "      <th>1</th>\n",
              "      <td>2</td>\n",
              "      <td>4.823529</td>\n",
              "      <td>3.900000</td>\n",
              "      <td>2</td>\n",
              "    </tr>\n",
              "    <tr>\n",
              "      <th>2</th>\n",
              "      <td>3</td>\n",
              "      <td>4.220000</td>\n",
              "      <td>4.057692</td>\n",
              "      <td>2</td>\n",
              "    </tr>\n",
              "    <tr>\n",
              "      <th>3</th>\n",
              "      <td>4</td>\n",
              "      <td>3.833333</td>\n",
              "      <td>3.545455</td>\n",
              "      <td>1</td>\n",
              "    </tr>\n",
              "    <tr>\n",
              "      <th>4</th>\n",
              "      <td>5</td>\n",
              "      <td>4.523810</td>\n",
              "      <td>4.083333</td>\n",
              "      <td>2</td>\n",
              "    </tr>\n",
              "    <tr>\n",
              "      <th>5</th>\n",
              "      <td>6</td>\n",
              "      <td>3.750000</td>\n",
              "      <td>3.666667</td>\n",
              "      <td>1</td>\n",
              "    </tr>\n",
              "    <tr>\n",
              "      <th>6</th>\n",
              "      <td>7</td>\n",
              "      <td>3.525424</td>\n",
              "      <td>3.221311</td>\n",
              "      <td>0</td>\n",
              "    </tr>\n",
              "    <tr>\n",
              "      <th>7</th>\n",
              "      <td>8</td>\n",
              "      <td>3.736842</td>\n",
              "      <td>3.640000</td>\n",
              "      <td>1</td>\n",
              "    </tr>\n",
              "    <tr>\n",
              "      <th>8</th>\n",
              "      <td>9</td>\n",
              "      <td>2.333333</td>\n",
              "      <td>2.909091</td>\n",
              "      <td>4</td>\n",
              "    </tr>\n",
              "    <tr>\n",
              "      <th>9</th>\n",
              "      <td>10</td>\n",
              "      <td>3.909091</td>\n",
              "      <td>4.000000</td>\n",
              "      <td>2</td>\n",
              "    </tr>\n",
              "  </tbody>\n",
              "</table>\n",
              "</div>"
            ],
            "text/plain": [
              "   userId  average adventure rating  average comedy rating  cluster_label\n",
              "0       1                  3.787671               3.737500              1\n",
              "1       2                  4.823529               3.900000              2\n",
              "2       3                  4.220000               4.057692              2\n",
              "3       4                  3.833333               3.545455              1\n",
              "4       5                  4.523810               4.083333              2\n",
              "5       6                  3.750000               3.666667              1\n",
              "6       7                  3.525424               3.221311              0\n",
              "7       8                  3.736842               3.640000              1\n",
              "8       9                  2.333333               2.909091              4\n",
              "9      10                  3.909091               4.000000              2"
            ]
          },
          "metadata": {
            "tags": []
          },
          "execution_count": 33
        }
      ]
    },
    {
      "cell_type": "markdown",
      "metadata": {
        "id": "Vw8WqD94yDyk"
      },
      "source": [
        "Colormap displaying the results of the kmeans clustering function. "
      ]
    },
    {
      "cell_type": "code",
      "metadata": {
        "id": "IjX7A24xe3lD",
        "colab": {
          "base_uri": "https://localhost:8080/",
          "height": 300
        },
        "outputId": "a829c857-da49-465a-c6cf-449edc4a3399"
      },
      "source": [
        "#Create a colormap that displays 5 different group of watchers who have rated\n",
        "#both an Adventure movie as well as a Comedy movie, along with\n",
        "#their average ratings for both genres based on the kmeans clustering function.\n",
        "twoGenresUserRatings.plot.scatter(x = 'average adventure rating', y = 'average comedy rating', c=labels, s=50, cmap='viridis', sharex=False)\n",
        "plt.scatter(centers[:, 0], centers[:, 1], c='black', s=200, alpha=0.5)\n"
      ],
      "execution_count": null,
      "outputs": [
        {
          "output_type": "execute_result",
          "data": {
            "text/plain": [
              "<matplotlib.collections.PathCollection at 0x7fea637b6390>"
            ]
          },
          "metadata": {
            "tags": []
          },
          "execution_count": 34
        },
        {
          "output_type": "display_data",
          "data": {
            "image/png": "[encoded data removed]",
            "text/plain": [
              "<Figure size 432x288 with 2 Axes>"
            ]
          },
          "metadata": {
            "tags": [],
            "needs_background": "light"
          }
        }
      ]
    },
    {
      "cell_type": "markdown",
      "metadata": {
        "id": "9ANxO66lGabG"
      },
      "source": [
        "# Conclusion"
      ]
    },
    {
      "cell_type": "markdown",
      "metadata": {
        "id": "4bPpq6dwJav7"
      },
      "source": [
        "For our dataset, we chose to remove any movies with less than 100 reviews as we saw that any movie with over 100 reviews is pretty significant. We also saw that it was a decent enough metric to cull the dataset in order to more accurately make sense of through a kmeans cluster function. This culling also helped with removing any outliers that would drastically affect the overall averages, making it less accurate than it should be. "
      ]
    },
    {
      "cell_type": "code",
      "metadata": {
        "id": "beca1Z4Z0mD2",
        "colab": {
          "base_uri": "https://localhost:8080/",
          "height": 542
        },
        "outputId": "5b1475e8-88c2-47a8-aa32-f49a0d7fbaba"
      },
      "source": [
        "headerColor = 'grey'\n",
        "rowEvenColor = 'lightgrey'\n",
        "rowOddColor = 'white'\n",
        "\n",
        "roundedAvgtruncatedRatingsForAdventure = round(avgtruncatedRatingsForAdventure, 2)\n",
        "roundedAvgtruncatedScoreForAdventure = round(avgtruncatedScoreForAdventure, 2)\n",
        "\n",
        "roundedAverageNumberOfRatingsForEachMovie = round(averageNumberOfRatingsForEachMovie, 2)\n",
        "roundedAverageScoreForEachMovie = round(avgTruncatedScoreForBothGenres, 2)\n",
        "\n",
        "roundedAverageNumberOfRatingsForEachComedyMovie = round(averageNumberOfRatingsForEachComedyMovie, 2)\n",
        "roundedAvgtruncatedScoreForComedy = round(avgtruncatedScoreForComedy, 2)\n",
        "\n",
        "fig = go.Figure(data=[go.Table(\n",
        "  header=dict(\n",
        "    values=['<b></b>','<b>ADVENTURE</b>','<b>COMEDY</b>','<b>Both Genres Combined</b>'],\n",
        "    line_color='darkslategray',\n",
        "    fill_color=headerColor,\n",
        "    align=['left','center'],\n",
        "    font=dict(color='white', size=12)\n",
        "  ),\n",
        "  cells=dict(\n",
        "    values=[\n",
        "      ['<b>Average Number of Ratings</b>', '<b>Average Rating</b>'],\n",
        "      [roundedAvgtruncatedRatingsForAdventure, roundedAvgtruncatedScoreForAdventure],\n",
        "      [roundedAverageNumberOfRatingsForEachComedyMovie , roundedAvgtruncatedScoreForComedy],\n",
        "      [roundedAverageNumberOfRatingsForEachMovie, roundedAverageScoreForEachMovie]],\n",
        "      \n",
        "    line_color='darkslategray',\n",
        "    # 2-D list of colors for alternating rows\n",
        "    fill_color = [[rowOddColor,rowEvenColor,rowOddColor, rowEvenColor,rowOddColor]*5],\n",
        "    align = ['left', 'center'],\n",
        "    font = dict(color = 'darkslategray', size = 11)\n",
        "    ))\n",
        "])\n",
        "\n",
        "fig.show()"
      ],
      "execution_count": null,
      "outputs": [
        {
          "output_type": "display_data",
          "data": {
            "text/html": [
              "<html>\n",
              "<head><meta charset=\"utf-8\" /></head>\n",
              "<body>\n",
              "    <div>\n",
              "            <script src=\"https://cdnjs.cloudflare.com/ajax/libs/mathjax/2.7.5/MathJax.js?config=TeX-AMS-MML_SVG\"></script><script type=\"text/javascript\">if (window.MathJax) {MathJax.Hub.Config({SVG: {font: \"STIX-Web\"}});}</script>\n",
              "                <script type=\"text/javascript\">window.PlotlyConfig = {MathJaxConfig: 'local'};</script>\n",
              "        <script src=\"https://cdn.plot.ly/plotly-latest.min.js\"></script>    \n",
              "            <div id=\"9ad6c7d4-725c-4ac8-8149-7f87a636363e\" class=\"plotly-graph-div\" style=\"height:525px; width:100%;\"></div>\n",
              "            <script type=\"text/javascript\">\n",
              "                \n",
              "                    window.PLOTLYENV=window.PLOTLYENV || {};\n",
              "                    \n",
              "                if (document.getElementById(\"9ad6c7d4-725c-4ac8-8149-7f87a636363e\")) {\n",
              "                    Plotly.newPlot(\n",
              "                        '9ad6c7d4-725c-4ac8-8149-7f87a636363e',\n",
              "                        [{\"cells\": {\"align\": [\"left\", \"center\"], \"fill\": {\"color\": [[\"white\", \"lightgrey\", \"white\", \"lightgrey\", \"white\", \"white\", \"lightgrey\", \"white\", \"lightgrey\", \"white\", \"white\", \"lightgrey\", \"white\", \"lightgrey\", \"white\", \"white\", \"lightgrey\", \"white\", \"lightgrey\", \"white\", \"white\", \"lightgrey\", \"white\", \"lightgrey\", \"white\"]]}, \"font\": {\"color\": \"darkslategray\", \"size\": 11}, \"line\": {\"color\": \"darkslategray\"}, \"values\": [[\"<b>Average Number of Ratings</b>\", \"<b>Average Rating</b>\"], [4203.0, 3.56], [911.35, 3.52], [1413.34, 3.54]]}, \"header\": {\"align\": [\"left\", \"center\"], \"fill\": {\"color\": \"grey\"}, \"font\": {\"color\": \"white\", \"size\": 12}, \"line\": {\"color\": \"darkslategray\"}, \"values\": [\"<b></b>\", \"<b>ADVENTURE</b>\", \"<b>COMEDY</b>\", \"<b>Both Genres Combined</b>\"]}, \"type\": \"table\"}],\n",
              "                        {\"template\": {\"data\": {\"bar\": [{\"error_x\": {\"color\": \"#2a3f5f\"}, \"error_y\": {\"color\": \"#2a3f5f\"}, \"marker\": {\"line\": {\"color\": \"#E5ECF6\", \"width\": 0.5}}, \"type\": \"bar\"}], \"barpolar\": [{\"marker\": {\"line\": {\"color\": \"#E5ECF6\", \"width\": 0.5}}, \"type\": \"barpolar\"}], \"carpet\": [{\"aaxis\": {\"endlinecolor\": \"#2a3f5f\", \"gridcolor\": \"white\", \"linecolor\": \"white\", \"minorgridcolor\": \"white\", \"startlinecolor\": \"#2a3f5f\"}, \"baxis\": {\"endlinecolor\": \"#2a3f5f\", \"gridcolor\": \"white\", \"linecolor\": \"white\", \"minorgridcolor\": \"white\", \"startlinecolor\": \"#2a3f5f\"}, \"type\": \"carpet\"}], \"choropleth\": [{\"colorbar\": {\"outlinewidth\": 0, \"ticks\": \"\"}, \"type\": \"choropleth\"}], \"contour\": [{\"colorbar\": {\"outlinewidth\": 0, \"ticks\": \"\"}, \"colorscale\": [[0.0, \"#0d0887\"], [0.1111111111111111, \"#46039f\"], [0.2222222222222222, \"#7201a8\"], [0.3333333333333333, \"#9c179e\"], [0.4444444444444444, \"#bd3786\"], [0.5555555555555556, \"#d8576b\"], [0.6666666666666666, \"#ed7953\"], [0.7777777777777778, \"#fb9f3a\"], [0.8888888888888888, \"#fdca26\"], [1.0, \"#f0f921\"]], \"type\": \"contour\"}], \"contourcarpet\": [{\"colorbar\": {\"outlinewidth\": 0, \"ticks\": \"\"}, \"type\": \"contourcarpet\"}], \"heatmap\": [{\"colorbar\": {\"outlinewidth\": 0, \"ticks\": \"\"}, \"colorscale\": [[0.0, \"#0d0887\"], [0.1111111111111111, \"#46039f\"], [0.2222222222222222, \"#7201a8\"], [0.3333333333333333, \"#9c179e\"], [0.4444444444444444, \"#bd3786\"], [0.5555555555555556, \"#d8576b\"], [0.6666666666666666, \"#ed7953\"], [0.7777777777777778, \"#fb9f3a\"], [0.8888888888888888, \"#fdca26\"], [1.0, \"#f0f921\"]], \"type\": \"heatmap\"}], \"heatmapgl\": [{\"colorbar\": {\"outlinewidth\": 0, \"ticks\": \"\"}, \"colorscale\": [[0.0, \"#0d0887\"], [0.1111111111111111, \"#46039f\"], [0.2222222222222222, \"#7201a8\"], [0.3333333333333333, \"#9c179e\"], [0.4444444444444444, \"#bd3786\"], [0.5555555555555556, \"#d8576b\"], [0.6666666666666666, \"#ed7953\"], [0.7777777777777778, \"#fb9f3a\"], [0.8888888888888888, \"#fdca26\"], [1.0, \"#f0f921\"]], \"type\": \"heatmapgl\"}], \"histogram\": [{\"marker\": {\"colorbar\": {\"outlinewidth\": 0, \"ticks\": \"\"}}, \"type\": \"histogram\"}], \"histogram2d\": [{\"colorbar\": {\"outlinewidth\": 0, \"ticks\": \"\"}, \"colorscale\": [[0.0, \"#0d0887\"], [0.1111111111111111, \"#46039f\"], [0.2222222222222222, \"#7201a8\"], [0.3333333333333333, \"#9c179e\"], [0.4444444444444444, \"#bd3786\"], [0.5555555555555556, \"#d8576b\"], [0.6666666666666666, \"#ed7953\"], [0.7777777777777778, \"#fb9f3a\"], [0.8888888888888888, \"#fdca26\"], [1.0, \"#f0f921\"]], \"type\": \"histogram2d\"}], \"histogram2dcontour\": [{\"colorbar\": {\"outlinewidth\": 0, \"ticks\": \"\"}, \"colorscale\": [[0.0, \"#0d0887\"], [0.1111111111111111, \"#46039f\"], [0.2222222222222222, \"#7201a8\"], [0.3333333333333333, \"#9c179e\"], [0.4444444444444444, \"#bd3786\"], [0.5555555555555556, \"#d8576b\"], [0.6666666666666666, \"#ed7953\"], [0.7777777777777778, \"#fb9f3a\"], [0.8888888888888888, \"#fdca26\"], [1.0, \"#f0f921\"]], \"type\": \"histogram2dcontour\"}], \"mesh3d\": [{\"colorbar\": {\"outlinewidth\": 0, \"ticks\": \"\"}, \"type\": \"mesh3d\"}], \"parcoords\": [{\"line\": {\"colorbar\": {\"outlinewidth\": 0, \"ticks\": \"\"}}, \"type\": \"parcoords\"}], \"pie\": [{\"automargin\": true, \"type\": \"pie\"}], \"scatter\": [{\"marker\": {\"colorbar\": {\"outlinewidth\": 0, \"ticks\": \"\"}}, \"type\": \"scatter\"}], \"scatter3d\": [{\"line\": {\"colorbar\": {\"outlinewidth\": 0, \"ticks\": \"\"}}, \"marker\": {\"colorbar\": {\"outlinewidth\": 0, \"ticks\": \"\"}}, \"type\": \"scatter3d\"}], \"scattercarpet\": [{\"marker\": {\"colorbar\": {\"outlinewidth\": 0, \"ticks\": \"\"}}, \"type\": \"scattercarpet\"}], \"scattergeo\": [{\"marker\": {\"colorbar\": {\"outlinewidth\": 0, \"ticks\": \"\"}}, \"type\": \"scattergeo\"}], \"scattergl\": [{\"marker\": {\"colorbar\": {\"outlinewidth\": 0, \"ticks\": \"\"}}, \"type\": \"scattergl\"}], \"scattermapbox\": [{\"marker\": {\"colorbar\": {\"outlinewidth\": 0, \"ticks\": \"\"}}, \"type\": \"scattermapbox\"}], \"scatterpolar\": [{\"marker\": {\"colorbar\": {\"outlinewidth\": 0, \"ticks\": \"\"}}, \"type\": \"scatterpolar\"}], \"scatterpolargl\": [{\"marker\": {\"colorbar\": {\"outlinewidth\": 0, \"ticks\": \"\"}}, \"type\": \"scatterpolargl\"}], \"scatterternary\": [{\"marker\": {\"colorbar\": {\"outlinewidth\": 0, \"ticks\": \"\"}}, \"type\": \"scatterternary\"}], \"surface\": [{\"colorbar\": {\"outlinewidth\": 0, \"ticks\": \"\"}, \"colorscale\": [[0.0, \"#0d0887\"], [0.1111111111111111, \"#46039f\"], [0.2222222222222222, \"#7201a8\"], [0.3333333333333333, \"#9c179e\"], [0.4444444444444444, \"#bd3786\"], [0.5555555555555556, \"#d8576b\"], [0.6666666666666666, \"#ed7953\"], [0.7777777777777778, \"#fb9f3a\"], [0.8888888888888888, \"#fdca26\"], [1.0, \"#f0f921\"]], \"type\": \"surface\"}], \"table\": [{\"cells\": {\"fill\": {\"color\": \"#EBF0F8\"}, \"line\": {\"color\": \"white\"}}, \"header\": {\"fill\": {\"color\": \"#C8D4E3\"}, \"line\": {\"color\": \"white\"}}, \"type\": \"table\"}]}, \"layout\": {\"annotationdefaults\": {\"arrowcolor\": \"#2a3f5f\", \"arrowhead\": 0, \"arrowwidth\": 1}, \"coloraxis\": {\"colorbar\": {\"outlinewidth\": 0, \"ticks\": \"\"}}, \"colorscale\": {\"diverging\": [[0, \"#8e0152\"], [0.1, \"#c51b7d\"], [0.2, \"#de77ae\"], [0.3, \"#f1b6da\"], [0.4, \"#fde0ef\"], [0.5, \"#f7f7f7\"], [0.6, \"#e6f5d0\"], [0.7, \"#b8e186\"], [0.8, \"#7fbc41\"], [0.9, \"#4d9221\"], [1, \"#276419\"]], \"sequential\": [[0.0, \"#0d0887\"], [0.1111111111111111, \"#46039f\"], [0.2222222222222222, \"#7201a8\"], [0.3333333333333333, \"#9c179e\"], [0.4444444444444444, \"#bd3786\"], [0.5555555555555556, \"#d8576b\"], [0.6666666666666666, \"#ed7953\"], [0.7777777777777778, \"#fb9f3a\"], [0.8888888888888888, \"#fdca26\"], [1.0, \"#f0f921\"]], \"sequentialminus\": [[0.0, \"#0d0887\"], [0.1111111111111111, \"#46039f\"], [0.2222222222222222, \"#7201a8\"], [0.3333333333333333, \"#9c179e\"], [0.4444444444444444, \"#bd3786\"], [0.5555555555555556, \"#d8576b\"], [0.6666666666666666, \"#ed7953\"], [0.7777777777777778, \"#fb9f3a\"], [0.8888888888888888, \"#fdca26\"], [1.0, \"#f0f921\"]]}, \"colorway\": [\"#636efa\", \"#EF553B\", \"#00cc96\", \"#ab63fa\", \"#FFA15A\", \"#19d3f3\", \"#FF6692\", \"#B6E880\", \"#FF97FF\", \"#FECB52\"], \"font\": {\"color\": \"#2a3f5f\"}, \"geo\": {\"bgcolor\": \"white\", \"lakecolor\": \"white\", \"landcolor\": \"#E5ECF6\", \"showlakes\": true, \"showland\": true, \"subunitcolor\": \"white\"}, \"hoverlabel\": {\"align\": \"left\"}, \"hovermode\": \"closest\", \"mapbox\": {\"style\": \"light\"}, \"paper_bgcolor\": \"white\", \"plot_bgcolor\": \"#E5ECF6\", \"polar\": {\"angularaxis\": {\"gridcolor\": \"white\", \"linecolor\": \"white\", \"ticks\": \"\"}, \"bgcolor\": \"#E5ECF6\", \"radialaxis\": {\"gridcolor\": \"white\", \"linecolor\": \"white\", \"ticks\": \"\"}}, \"scene\": {\"xaxis\": {\"backgroundcolor\": \"#E5ECF6\", \"gridcolor\": \"white\", \"gridwidth\": 2, \"linecolor\": \"white\", \"showbackground\": true, \"ticks\": \"\", \"zerolinecolor\": \"white\"}, \"yaxis\": {\"backgroundcolor\": \"#E5ECF6\", \"gridcolor\": \"white\", \"gridwidth\": 2, \"linecolor\": \"white\", \"showbackground\": true, \"ticks\": \"\", \"zerolinecolor\": \"white\"}, \"zaxis\": {\"backgroundcolor\": \"#E5ECF6\", \"gridcolor\": \"white\", \"gridwidth\": 2, \"linecolor\": \"white\", \"showbackground\": true, \"ticks\": \"\", \"zerolinecolor\": \"white\"}}, \"shapedefaults\": {\"line\": {\"color\": \"#2a3f5f\"}}, \"ternary\": {\"aaxis\": {\"gridcolor\": \"white\", \"linecolor\": \"white\", \"ticks\": \"\"}, \"baxis\": {\"gridcolor\": \"white\", \"linecolor\": \"white\", \"ticks\": \"\"}, \"bgcolor\": \"#E5ECF6\", \"caxis\": {\"gridcolor\": \"white\", \"linecolor\": \"white\", \"ticks\": \"\"}}, \"title\": {\"x\": 0.05}, \"xaxis\": {\"automargin\": true, \"gridcolor\": \"white\", \"linecolor\": \"white\", \"ticks\": \"\", \"title\": {\"standoff\": 15}, \"zerolinecolor\": \"white\", \"zerolinewidth\": 2}, \"yaxis\": {\"automargin\": true, \"gridcolor\": \"white\", \"linecolor\": \"white\", \"ticks\": \"\", \"title\": {\"standoff\": 15}, \"zerolinecolor\": \"white\", \"zerolinewidth\": 2}}}},\n",
              "                        {\"responsive\": true}\n",
              "                    ).then(function(){\n",
              "                            \n",
              "var gd = document.getElementById('9ad6c7d4-725c-4ac8-8149-7f87a636363e');\n",
              "var x = new MutationObserver(function (mutations, observer) {{\n",
              "        var display = window.getComputedStyle(gd).display;\n",
              "        if (!display || display === 'none') {{\n",
              "            console.log([gd, 'removed!']);\n",
              "            Plotly.purge(gd);\n",
              "            observer.disconnect();\n",
              "        }}\n",
              "}});\n",
              "\n",
              "// Listen for the removal of the full notebook cells\n",
              "var notebookContainer = gd.closest('#notebook-container');\n",
              "if (notebookContainer) {{\n",
              "    x.observe(notebookContainer, {childList: true});\n",
              "}}\n",
              "\n",
              "// Listen for the clearing of the current output cell\n",
              "var outputEl = gd.closest('.output');\n",
              "if (outputEl) {{\n",
              "    x.observe(outputEl, {childList: true});\n",
              "}}\n",
              "\n",
              "                        })\n",
              "                };\n",
              "                \n",
              "            </script>\n",
              "        </div>\n",
              "</body>\n",
              "</html>"
            ]
          },
          "metadata": {
            "tags": []
          }
        }
      ]
    },
    {
      "cell_type": "markdown",
      "metadata": {
        "id": "xfTEfpaS9yWv"
      },
      "source": [
        "Based on the colormap results of the kmeans clustering function, we can determine that there are 5 different clusters of movie watchers that have rated movies for adventure and comdedy genres. Represented by the yellow, these movie watchers are the lower majority that either majorly favor one genre over the other, or do not favor either genre very much. The purple set of watchers prefer comedies over adventures while the light green prefers the opposite. Despite this, on average, they are likely to rate a the opposing genre decent scores. The blue set of watchers are the users that represent the minority that generally likes both genre types, while the teal subgroup absolutely adores both comedy and adventure genres. Looking at the distruption of the groups, we can say that the majority of the watchers are in the yellow subgroup, which means that they will greatly favor one genre over another or will not favor either. We can see however, that a good majority of watchers greatly favor both genres.\n",
        "\n",
        "From the table, we can see that Adventure movies have more reviews than Comedy movies however, the average ratings for Adventure, Comedy, and both movies combined are around the same. The Comedy genre has a slightly better score than the Adventure genre, which means most ratings for Comedies are higher, after noting that average number of ratings for Comedies are much lower. This can be reflected with the colormap as some of the center cluster points are slightly higher in the direction of Comedy movies. "
      ]
    }
  ]
}